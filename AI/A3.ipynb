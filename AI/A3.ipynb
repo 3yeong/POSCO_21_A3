{
 "cells": [
  {
   "cell_type": "code",
   "execution_count": 1,
   "id": "b60f40fb-5184-46f7-b6c4-29443d158153",
   "metadata": {},
   "outputs": [],
   "source": [
    "import pandas as pd\n",
    "\n",
    "import matplotlib.pyplot as plt\n",
    "import matplotlib\n",
    "\n",
    "from sklearn.tree import export_graphviz\n",
    "\n",
    "import graphviz\n",
    "\n",
    "from sklearn.model_selection import train_test_split\n",
    "\n",
    "from sklearn.ensemble import RandomForestClassifier\n",
    "\n",
    "from sklearn.ensemble import GradientBoostingClassifier\n",
    "\n",
    "from sklearn.model_selection import GridSearchCV\n",
    "\n",
    "from sklearn.svm import SVC\n",
    "\n",
    "from sklearn.preprocessing import StandardScaler\n",
    "\n",
    "from sklearn.metrics import accuracy_score, f1_score, roc_auc_score, precision_score, recall_score\n",
    "from sklearn.metrics import confusion_matrix, classification_report\n",
    "\n",
    "from sklearn.neural_network import MLPClassifier\n",
    "\n",
    "from sklearn.neighbors import KNeighborsClassifier\n",
    "\n",
    "import seaborn as sns#가설검정 및 통계분석 패키지\n",
    "\n",
    "matplotlib.rc('font',family='NanumGothic')\n",
    "matplotlib.rc('axes',unicode_minus=False)\n",
    "\n",
    "import warnings\n",
    "warnings.filterwarnings('ignore')"
   ]
  },
  {
   "cell_type": "code",
   "execution_count": 3,
   "id": "f4b86846-082a-4498-8ea5-0a71a820c761",
   "metadata": {},
   "outputs": [
    {
     "data": {
      "text/html": [
       "<div>\n",
       "<style scoped>\n",
       "    .dataframe tbody tr th:only-of-type {\n",
       "        vertical-align: middle;\n",
       "    }\n",
       "\n",
       "    .dataframe tbody tr th {\n",
       "        vertical-align: top;\n",
       "    }\n",
       "\n",
       "    .dataframe thead th {\n",
       "        text-align: right;\n",
       "    }\n",
       "</style>\n",
       "<table border=\"1\" class=\"dataframe\">\n",
       "  <thead>\n",
       "    <tr style=\"text-align: right;\">\n",
       "      <th></th>\n",
       "      <th>diagnosis</th>\n",
       "      <th>mean_radius</th>\n",
       "      <th>mean_texture</th>\n",
       "      <th>mean_perimeter</th>\n",
       "      <th>mean_area</th>\n",
       "      <th>mean_smoothness</th>\n",
       "      <th>mean_compactness</th>\n",
       "      <th>mean_concavity</th>\n",
       "      <th>mean_concave_points</th>\n",
       "      <th>mean_symmetry</th>\n",
       "      <th>...</th>\n",
       "      <th>worst_radius</th>\n",
       "      <th>worst_texture</th>\n",
       "      <th>worst_perimeter</th>\n",
       "      <th>worst_area</th>\n",
       "      <th>worst_smoothness</th>\n",
       "      <th>worst_compactness</th>\n",
       "      <th>worst_concavity</th>\n",
       "      <th>worst_concave_points</th>\n",
       "      <th>worst_symmetry</th>\n",
       "      <th>worst_fractal_dimension</th>\n",
       "    </tr>\n",
       "  </thead>\n",
       "  <tbody>\n",
       "    <tr>\n",
       "      <th>0</th>\n",
       "      <td>음성</td>\n",
       "      <td>15.12</td>\n",
       "      <td>16.68</td>\n",
       "      <td>98.78</td>\n",
       "      <td>716.6</td>\n",
       "      <td>0.08876</td>\n",
       "      <td>0.09588</td>\n",
       "      <td>0.07550</td>\n",
       "      <td>0.04079</td>\n",
       "      <td>0.1594</td>\n",
       "      <td>...</td>\n",
       "      <td>17.77</td>\n",
       "      <td>20.24</td>\n",
       "      <td>117.70</td>\n",
       "      <td>989.5</td>\n",
       "      <td>0.14910</td>\n",
       "      <td>0.3331</td>\n",
       "      <td>0.3327</td>\n",
       "      <td>0.12520</td>\n",
       "      <td>0.3415</td>\n",
       "      <td>0.09740</td>\n",
       "    </tr>\n",
       "    <tr>\n",
       "      <th>1</th>\n",
       "      <td>양성</td>\n",
       "      <td>10.80</td>\n",
       "      <td>9.71</td>\n",
       "      <td>68.77</td>\n",
       "      <td>357.6</td>\n",
       "      <td>0.09594</td>\n",
       "      <td>0.05736</td>\n",
       "      <td>0.02531</td>\n",
       "      <td>0.01698</td>\n",
       "      <td>0.1381</td>\n",
       "      <td>...</td>\n",
       "      <td>11.60</td>\n",
       "      <td>12.02</td>\n",
       "      <td>73.66</td>\n",
       "      <td>414.0</td>\n",
       "      <td>0.14360</td>\n",
       "      <td>0.1257</td>\n",
       "      <td>0.1047</td>\n",
       "      <td>0.04603</td>\n",
       "      <td>0.2090</td>\n",
       "      <td>0.07699</td>\n",
       "    </tr>\n",
       "    <tr>\n",
       "      <th>2</th>\n",
       "      <td>음성</td>\n",
       "      <td>18.31</td>\n",
       "      <td>18.58</td>\n",
       "      <td>118.60</td>\n",
       "      <td>1041.0</td>\n",
       "      <td>0.08588</td>\n",
       "      <td>0.08468</td>\n",
       "      <td>0.08169</td>\n",
       "      <td>0.05814</td>\n",
       "      <td>0.1621</td>\n",
       "      <td>...</td>\n",
       "      <td>21.31</td>\n",
       "      <td>26.36</td>\n",
       "      <td>139.20</td>\n",
       "      <td>1410.0</td>\n",
       "      <td>0.12340</td>\n",
       "      <td>0.2445</td>\n",
       "      <td>0.3538</td>\n",
       "      <td>0.15710</td>\n",
       "      <td>0.3206</td>\n",
       "      <td>0.06938</td>\n",
       "    </tr>\n",
       "    <tr>\n",
       "      <th>3</th>\n",
       "      <td>양성</td>\n",
       "      <td>14.92</td>\n",
       "      <td>14.93</td>\n",
       "      <td>96.45</td>\n",
       "      <td>686.9</td>\n",
       "      <td>0.08098</td>\n",
       "      <td>0.08549</td>\n",
       "      <td>0.05539</td>\n",
       "      <td>0.03221</td>\n",
       "      <td>0.1687</td>\n",
       "      <td>...</td>\n",
       "      <td>17.18</td>\n",
       "      <td>18.22</td>\n",
       "      <td>112.00</td>\n",
       "      <td>906.6</td>\n",
       "      <td>0.10650</td>\n",
       "      <td>0.2791</td>\n",
       "      <td>0.3151</td>\n",
       "      <td>0.11470</td>\n",
       "      <td>0.2688</td>\n",
       "      <td>0.08273</td>\n",
       "    </tr>\n",
       "    <tr>\n",
       "      <th>4</th>\n",
       "      <td>양성</td>\n",
       "      <td>12.89</td>\n",
       "      <td>13.12</td>\n",
       "      <td>81.89</td>\n",
       "      <td>515.9</td>\n",
       "      <td>0.06955</td>\n",
       "      <td>0.03729</td>\n",
       "      <td>0.02260</td>\n",
       "      <td>0.01171</td>\n",
       "      <td>0.1337</td>\n",
       "      <td>...</td>\n",
       "      <td>13.62</td>\n",
       "      <td>15.54</td>\n",
       "      <td>87.40</td>\n",
       "      <td>577.0</td>\n",
       "      <td>0.09616</td>\n",
       "      <td>0.1147</td>\n",
       "      <td>0.1186</td>\n",
       "      <td>0.05366</td>\n",
       "      <td>0.2309</td>\n",
       "      <td>0.06915</td>\n",
       "    </tr>\n",
       "  </tbody>\n",
       "</table>\n",
       "<p>5 rows × 31 columns</p>\n",
       "</div>"
      ],
      "text/plain": [
       "  diagnosis  mean_radius  mean_texture  mean_perimeter  mean_area  \\\n",
       "0        음성        15.12         16.68           98.78      716.6   \n",
       "1        양성        10.80          9.71           68.77      357.6   \n",
       "2        음성        18.31         18.58          118.60     1041.0   \n",
       "3        양성        14.92         14.93           96.45      686.9   \n",
       "4        양성        12.89         13.12           81.89      515.9   \n",
       "\n",
       "   mean_smoothness  mean_compactness  mean_concavity  mean_concave_points  \\\n",
       "0          0.08876           0.09588         0.07550              0.04079   \n",
       "1          0.09594           0.05736         0.02531              0.01698   \n",
       "2          0.08588           0.08468         0.08169              0.05814   \n",
       "3          0.08098           0.08549         0.05539              0.03221   \n",
       "4          0.06955           0.03729         0.02260              0.01171   \n",
       "\n",
       "   mean_symmetry  ...  worst_radius  worst_texture  worst_perimeter  \\\n",
       "0         0.1594  ...         17.77          20.24           117.70   \n",
       "1         0.1381  ...         11.60          12.02            73.66   \n",
       "2         0.1621  ...         21.31          26.36           139.20   \n",
       "3         0.1687  ...         17.18          18.22           112.00   \n",
       "4         0.1337  ...         13.62          15.54            87.40   \n",
       "\n",
       "   worst_area  worst_smoothness  worst_compactness  worst_concavity  \\\n",
       "0       989.5           0.14910             0.3331           0.3327   \n",
       "1       414.0           0.14360             0.1257           0.1047   \n",
       "2      1410.0           0.12340             0.2445           0.3538   \n",
       "3       906.6           0.10650             0.2791           0.3151   \n",
       "4       577.0           0.09616             0.1147           0.1186   \n",
       "\n",
       "   worst_concave_points  worst_symmetry  worst_fractal_dimension  \n",
       "0               0.12520          0.3415                  0.09740  \n",
       "1               0.04603          0.2090                  0.07699  \n",
       "2               0.15710          0.3206                  0.06938  \n",
       "3               0.11470          0.2688                  0.08273  \n",
       "4               0.05366          0.2309                  0.06915  \n",
       "\n",
       "[5 rows x 31 columns]"
      ]
     },
     "execution_count": 3,
     "metadata": {},
     "output_type": "execute_result"
    }
   ],
   "source": [
    "import os\n",
    "os.environ[\"PATH\"]\n",
    "\n",
    "os.chdir(r\"/home/piai/2023_권세영/수업 자료/bigdata/my_data/data_fine\")\n",
    "os.getcwd()\n",
    "df_raw = pd.read_csv(\"./유방암.csv\", encoding = 'euc-kr')\n",
    "df_raw.head()"
   ]
  },
  {
   "cell_type": "code",
   "execution_count": 4,
   "id": "f947ea8f-afe4-46e4-8f9c-5e64a643dc7a",
   "metadata": {},
   "outputs": [
    {
     "name": "stdout",
     "output_type": "stream",
     "text": [
      "분할 전 설명변수 데이터 :  (320, 30)\n",
      "분할 후 설명변수 데이터 :  (192, 30) (128, 30)\n"
     ]
    }
   ],
   "source": [
    "#목표변수 양성 1: 음성0\n",
    "#설명변수, 목표변수 데이터 구분\n",
    "df_raw_dummy = pd.get_dummies(df_raw)\n",
    "df_raw_x = df_raw.drop('diagnosis',axis = 1, inplace = False )\n",
    "\n",
    "df_raw_y = df_raw['diagnosis']\n",
    "df_raw_y  = pd.get_dummies(df_raw_y)\n",
    "df_raw_y = df_raw_y['양성']\n",
    "df_raw_y = df_raw_y.squeeze()\n",
    "\n",
    "#데이터 분할 Train_test_split(X: t: 설명변수, Y:목표변수, test_size = test 데이터 비율)\n",
    "\n",
    "df_train_x, df_test_x, df_train_y, df_test_y = train_test_split(df_raw_x, df_raw_y,test_size=0.4,random_state = 1234)\n",
    "print(\"분할 전 설명변수 데이터 : \", df_raw_x.shape)\n",
    "print(\"분할 후 설명변수 데이터 : \", df_train_x.shape,df_test_x.shape)"
   ]
  },
  {
   "cell_type": "markdown",
   "id": "6b4c31fb-88cd-4fe3-b979-03008ecda2c7",
   "metadata": {},
   "source": [
    "## NN"
   ]
  },
  {
   "cell_type": "code",
   "execution_count": 9,
   "id": "e5d19b03-2f9e-42c4-bfd1-4395dcdff784",
   "metadata": {},
   "outputs": [],
   "source": [
    "from sklearn.neural_network import MLPClassifier"
   ]
  },
  {
   "cell_type": "markdown",
   "id": "7768b014-b5c8-4bf4-9849-47d650b68912",
   "metadata": {},
   "source": [
    "### 모델 생성"
   ]
  },
  {
   "cell_type": "code",
   "execution_count": 10,
   "id": "421382fc-265c-46be-ba20-95371d59cbe0",
   "metadata": {},
   "outputs": [
    {
     "name": "stdout",
     "output_type": "stream",
     "text": [
      "Accuracy on training set: 0.599\n",
      "Accuracy on test set : 0.758\n"
     ]
    }
   ],
   "source": [
    "nn_uncustomized = MLPClassifier(random_state =1234)\n",
    "nn_uncustomized.fit(df_train_x, df_train_y)\n",
    "\n",
    "print(\"Accuracy on training set: {:.3f}\".format(nn_uncustomized.score(df_train_x, df_train_y)))\n",
    "\n",
    "print(\"Accuracy on test set : {:.3f}\".format(nn_uncustomized.score(df_test_x, df_test_y)))"
   ]
  },
  {
   "cell_type": "code",
   "execution_count": 11,
   "id": "bdab0ab7-1f08-4db0-b6f0-e329a88b4938",
   "metadata": {},
   "outputs": [
    {
     "name": "stdout",
     "output_type": "stream",
     "text": [
      "dict_keys(['activation', 'alpha', 'batch_size', 'beta_1', 'beta_2', 'early_stopping', 'epsilon', 'hidden_layer_sizes', 'learning_rate', 'learning_rate_init', 'max_fun', 'max_iter', 'momentum', 'n_iter_no_change', 'nesterovs_momentum', 'power_t', 'random_state', 'shuffle', 'solver', 'tol', 'validation_fraction', 'verbose', 'warm_start'])\n",
      "dict_values(['relu', 0.0001, 'auto', 0.9, 0.999, False, 1e-08, (100,), 'constant', 0.001, 15000, 200, 0.9, 10, True, 0.5, 1234, True, 'adam', 0.0001, 0.1, False, False])\n"
     ]
    }
   ],
   "source": [
    "print(nn_uncustomized.get_params().keys())\n",
    "print(nn_uncustomized.get_params().values())"
   ]
  },
  {
   "cell_type": "markdown",
   "id": "10b4d6b1-7852-491e-bed6-faf88a6e62e8",
   "metadata": {},
   "source": [
    "### hidden layer : 은닉층 변경에 따른 모델 성능"
   ]
  },
  {
   "cell_type": "code",
   "execution_count": 6,
   "id": "6cbf3ec0-c918-426e-8290-241150a7df59",
   "metadata": {},
   "outputs": [],
   "source": [
    "train_accuracy = []; test_accuracy=[]\n",
    "\n",
    "para_hidden = [5 * hidden for hidden in range(1, 21)]\n",
    "\n",
    "for v_hidden in para_hidden:\n",
    "    #nn = MLPClassifier(hidden_layer_sizes = v_hidden, random_state = 1234) 히든 레이어 1개\n",
    "    nn = MLPClassifier(hidden_layer_sizes = (v_hidden, v_hidden), random_state = 1234) #히든 레이어 2개\n",
    "    nn.fit(df_train_x, df_train_y)\n",
    "    train_accuracy.append(nn.score(df_train_x, df_train_y))\n",
    "    test_accuracy.append(nn.score(df_test_x, df_test_y))\n",
    "    \n",
    "    \n",
    "df_accuracy_hidden = pd.DataFrame()\n",
    "df_accuracy_hidden[\"HiddenLayer\"] = para_hidden\n",
    "df_accuracy_hidden[\"TrainAccuracy\"] = train_accuracy\n",
    "df_accuracy_hidden[\"TestAccuracy\"] = test_accuracy"
   ]
  },
  {
   "cell_type": "code",
   "execution_count": 7,
   "id": "cce909de-111f-4c80-b73c-f28809bc26c4",
   "metadata": {},
   "outputs": [
    {
     "data": {
      "text/html": [
       "<div>\n",
       "<style scoped>\n",
       "    .dataframe tbody tr th:only-of-type {\n",
       "        vertical-align: middle;\n",
       "    }\n",
       "\n",
       "    .dataframe tbody tr th {\n",
       "        vertical-align: top;\n",
       "    }\n",
       "\n",
       "    .dataframe thead th {\n",
       "        text-align: right;\n",
       "    }\n",
       "</style>\n",
       "<table border=\"1\" class=\"dataframe\">\n",
       "  <thead>\n",
       "    <tr style=\"text-align: right;\">\n",
       "      <th></th>\n",
       "      <th>HiddenLayer</th>\n",
       "      <th>TrainAccuracy</th>\n",
       "      <th>TestAccuracy</th>\n",
       "    </tr>\n",
       "  </thead>\n",
       "  <tbody>\n",
       "    <tr>\n",
       "      <th>0</th>\n",
       "      <td>5</td>\n",
       "      <td>0.599</td>\n",
       "      <td>0.758</td>\n",
       "    </tr>\n",
       "    <tr>\n",
       "      <th>1</th>\n",
       "      <td>10</td>\n",
       "      <td>0.594</td>\n",
       "      <td>0.750</td>\n",
       "    </tr>\n",
       "    <tr>\n",
       "      <th>2</th>\n",
       "      <td>15</td>\n",
       "      <td>0.401</td>\n",
       "      <td>0.242</td>\n",
       "    </tr>\n",
       "    <tr>\n",
       "      <th>3</th>\n",
       "      <td>20</td>\n",
       "      <td>0.901</td>\n",
       "      <td>0.875</td>\n",
       "    </tr>\n",
       "    <tr>\n",
       "      <th>4</th>\n",
       "      <td>25</td>\n",
       "      <td>0.870</td>\n",
       "      <td>0.898</td>\n",
       "    </tr>\n",
       "    <tr>\n",
       "      <th>5</th>\n",
       "      <td>30</td>\n",
       "      <td>0.599</td>\n",
       "      <td>0.758</td>\n",
       "    </tr>\n",
       "    <tr>\n",
       "      <th>6</th>\n",
       "      <td>35</td>\n",
       "      <td>0.932</td>\n",
       "      <td>0.914</td>\n",
       "    </tr>\n",
       "    <tr>\n",
       "      <th>7</th>\n",
       "      <td>40</td>\n",
       "      <td>0.599</td>\n",
       "      <td>0.758</td>\n",
       "    </tr>\n",
       "    <tr>\n",
       "      <th>8</th>\n",
       "      <td>45</td>\n",
       "      <td>0.938</td>\n",
       "      <td>0.938</td>\n",
       "    </tr>\n",
       "    <tr>\n",
       "      <th>9</th>\n",
       "      <td>50</td>\n",
       "      <td>0.932</td>\n",
       "      <td>0.906</td>\n",
       "    </tr>\n",
       "    <tr>\n",
       "      <th>10</th>\n",
       "      <td>55</td>\n",
       "      <td>0.599</td>\n",
       "      <td>0.758</td>\n",
       "    </tr>\n",
       "    <tr>\n",
       "      <th>11</th>\n",
       "      <td>60</td>\n",
       "      <td>0.943</td>\n",
       "      <td>0.875</td>\n",
       "    </tr>\n",
       "    <tr>\n",
       "      <th>12</th>\n",
       "      <td>65</td>\n",
       "      <td>0.927</td>\n",
       "      <td>0.961</td>\n",
       "    </tr>\n",
       "    <tr>\n",
       "      <th>13</th>\n",
       "      <td>70</td>\n",
       "      <td>0.938</td>\n",
       "      <td>0.938</td>\n",
       "    </tr>\n",
       "    <tr>\n",
       "      <th>14</th>\n",
       "      <td>75</td>\n",
       "      <td>0.927</td>\n",
       "      <td>0.883</td>\n",
       "    </tr>\n",
       "    <tr>\n",
       "      <th>15</th>\n",
       "      <td>80</td>\n",
       "      <td>0.599</td>\n",
       "      <td>0.758</td>\n",
       "    </tr>\n",
       "    <tr>\n",
       "      <th>16</th>\n",
       "      <td>85</td>\n",
       "      <td>0.932</td>\n",
       "      <td>0.906</td>\n",
       "    </tr>\n",
       "    <tr>\n",
       "      <th>17</th>\n",
       "      <td>90</td>\n",
       "      <td>0.927</td>\n",
       "      <td>0.922</td>\n",
       "    </tr>\n",
       "    <tr>\n",
       "      <th>18</th>\n",
       "      <td>95</td>\n",
       "      <td>0.885</td>\n",
       "      <td>0.844</td>\n",
       "    </tr>\n",
       "    <tr>\n",
       "      <th>19</th>\n",
       "      <td>100</td>\n",
       "      <td>0.875</td>\n",
       "      <td>0.859</td>\n",
       "    </tr>\n",
       "  </tbody>\n",
       "</table>\n",
       "</div>"
      ],
      "text/plain": [
       "    HiddenLayer  TrainAccuracy  TestAccuracy\n",
       "0             5          0.599         0.758\n",
       "1            10          0.594         0.750\n",
       "2            15          0.401         0.242\n",
       "3            20          0.901         0.875\n",
       "4            25          0.870         0.898\n",
       "5            30          0.599         0.758\n",
       "6            35          0.932         0.914\n",
       "7            40          0.599         0.758\n",
       "8            45          0.938         0.938\n",
       "9            50          0.932         0.906\n",
       "10           55          0.599         0.758\n",
       "11           60          0.943         0.875\n",
       "12           65          0.927         0.961\n",
       "13           70          0.938         0.938\n",
       "14           75          0.927         0.883\n",
       "15           80          0.599         0.758\n",
       "16           85          0.932         0.906\n",
       "17           90          0.927         0.922\n",
       "18           95          0.885         0.844\n",
       "19          100          0.875         0.859"
      ]
     },
     "execution_count": 7,
     "metadata": {},
     "output_type": "execute_result"
    }
   ],
   "source": [
    "df_accuracy_hidden.round(3)"
   ]
  },
  {
   "cell_type": "code",
   "execution_count": 8,
   "id": "8c51253a-c1b2-4aa2-9ee5-b97f400cba42",
   "metadata": {},
   "outputs": [
    {
     "data": {
      "text/plain": [
       "<matplotlib.legend.Legend at 0x7f4248274e80>"
      ]
     },
     "execution_count": 8,
     "metadata": {},
     "output_type": "execute_result"
    },
    {
     "data": {
      "image/png": "[encoded data removed]",
      "text/plain": [
       "<Figure size 640x480 with 1 Axes>"
      ]
     },
     "metadata": {},
     "output_type": "display_data"
    }
   ],
   "source": [
    "plt.plot(para_hidden, train_accuracy, linestyle = \"-\", label = \"Train Accuracy\")\n",
    "plt.plot(para_hidden, test_accuracy, linestyle = \"--\", label = \"Test Accuracy\")\n",
    "plt.xlabel(\"Hidden\"); plt.ylabel(\"accuray\")\n",
    "plt.legend()"
   ]
  },
  {
   "cell_type": "markdown",
   "id": "2fe8f787-7973-41fa-91fd-0a02b832532e",
   "metadata": {},
   "source": [
    "### Activation :활성화 함수에 따른 모델 성능"
   ]
  },
  {
   "cell_type": "code",
   "execution_count": 12,
   "id": "cd1a9b3c-2017-4627-9566-67e4571f6307",
   "metadata": {},
   "outputs": [],
   "source": [
    "train_accuracy = []; test_accuracy=[]\n",
    "\n",
    "para_function = ['logistic', 'tanh', 'relu']\n",
    "\n",
    "for v_function in para_function:\n",
    "    #nn = MLPClassifier(hidden_layer_sizes = v_hidden, random_state = 1234) 히든 레이어 1개\n",
    "    nn = MLPClassifier(activation= v_function, random_state = 1234) #히든 레이어 2개\n",
    "    nn.fit(df_train_x, df_train_y)\n",
    "    train_accuracy.append(nn.score(df_train_x, df_train_y))\n",
    "    test_accuracy.append(nn.score(df_test_x, df_test_y))\n",
    "    \n",
    "    \n",
    "df_accuracy_function = pd.DataFrame()\n",
    "df_accuracy_function[\"ActivationFrunction\"] = para_function\n",
    "df_accuracy_function[\"TrainAccuracy\"] = train_accuracy\n",
    "df_accuracy_function[\"TestAccuracy\"] = test_accuracy"
   ]
  },
  {
   "cell_type": "code",
   "execution_count": 13,
   "id": "617a1b6e-5732-4d07-bd65-6c39dd6f5e18",
   "metadata": {},
   "outputs": [
    {
     "data": {
      "text/html": [
       "<div>\n",
       "<style scoped>\n",
       "    .dataframe tbody tr th:only-of-type {\n",
       "        vertical-align: middle;\n",
       "    }\n",
       "\n",
       "    .dataframe tbody tr th {\n",
       "        vertical-align: top;\n",
       "    }\n",
       "\n",
       "    .dataframe thead th {\n",
       "        text-align: right;\n",
       "    }\n",
       "</style>\n",
       "<table border=\"1\" class=\"dataframe\">\n",
       "  <thead>\n",
       "    <tr style=\"text-align: right;\">\n",
       "      <th></th>\n",
       "      <th>ActivationFrunction</th>\n",
       "      <th>TrainAccuracy</th>\n",
       "      <th>TestAccuracy</th>\n",
       "    </tr>\n",
       "  </thead>\n",
       "  <tbody>\n",
       "    <tr>\n",
       "      <th>0</th>\n",
       "      <td>logistic</td>\n",
       "      <td>0.943</td>\n",
       "      <td>0.898</td>\n",
       "    </tr>\n",
       "    <tr>\n",
       "      <th>1</th>\n",
       "      <td>tanh</td>\n",
       "      <td>0.943</td>\n",
       "      <td>0.906</td>\n",
       "    </tr>\n",
       "    <tr>\n",
       "      <th>2</th>\n",
       "      <td>relu</td>\n",
       "      <td>0.599</td>\n",
       "      <td>0.758</td>\n",
       "    </tr>\n",
       "  </tbody>\n",
       "</table>\n",
       "</div>"
      ],
      "text/plain": [
       "  ActivationFrunction  TrainAccuracy  TestAccuracy\n",
       "0            logistic          0.943         0.898\n",
       "1                tanh          0.943         0.906\n",
       "2                relu          0.599         0.758"
      ]
     },
     "execution_count": 13,
     "metadata": {},
     "output_type": "execute_result"
    }
   ],
   "source": [
    "df_accuracy_function.round(3)"
   ]
  },
  {
   "cell_type": "code",
   "execution_count": 14,
   "id": "ea1ce95a-7373-43ec-915c-b9af64da463a",
   "metadata": {},
   "outputs": [
    {
     "data": {
      "text/plain": [
       "<matplotlib.legend.Legend at 0x7f42481189d0>"
      ]
     },
     "execution_count": 14,
     "metadata": {},
     "output_type": "execute_result"
    },
    {
     "data": {
      "image/png": "[encoded data removed]",
      "text/plain": [
       "<Figure size 640x480 with 1 Axes>"
      ]
     },
     "metadata": {},
     "output_type": "display_data"
    }
   ],
   "source": [
    "plt.plot(para_function, train_accuracy, linestyle = \"-\", label = \"Train Accuracy\")\n",
    "plt.plot(para_function, test_accuracy, linestyle = \"--\", label = \"Test Accuracy\")\n",
    "plt.xlabel(\"ActivationFunction\"); plt.ylabel(\"accuray\")\n",
    "plt.legend()"
   ]
  },
  {
   "cell_type": "markdown",
   "id": "45b91c99-65b7-43a5-b7f2-87a1e7893525",
   "metadata": {},
   "source": [
    "**일정한 시간이 지난 후 테스트 성능이 더 높아지므로 활성함수는 넣지 않는다.**"
   ]
  },
  {
   "cell_type": "markdown",
   "id": "af4a08e6-0fe3-491e-ad60-561411c016da",
   "metadata": {},
   "source": [
    "### Standardscaler : 설명변수 scale 변경"
   ]
  },
  {
   "cell_type": "code",
   "execution_count": 15,
   "id": "aa9c6cfe-a5f9-4f6d-afd9-e8923f93941f",
   "metadata": {},
   "outputs": [
    {
     "data": {
      "text/html": [
       "<div>\n",
       "<style scoped>\n",
       "    .dataframe tbody tr th:only-of-type {\n",
       "        vertical-align: middle;\n",
       "    }\n",
       "\n",
       "    .dataframe tbody tr th {\n",
       "        vertical-align: top;\n",
       "    }\n",
       "\n",
       "    .dataframe thead th {\n",
       "        text-align: right;\n",
       "    }\n",
       "</style>\n",
       "<table border=\"1\" class=\"dataframe\">\n",
       "  <thead>\n",
       "    <tr style=\"text-align: right;\">\n",
       "      <th></th>\n",
       "      <th>mean_radius</th>\n",
       "      <th>mean_texture</th>\n",
       "      <th>mean_perimeter</th>\n",
       "      <th>mean_area</th>\n",
       "      <th>mean_smoothness</th>\n",
       "      <th>mean_compactness</th>\n",
       "      <th>mean_concavity</th>\n",
       "      <th>mean_concave_points</th>\n",
       "      <th>mean_symmetry</th>\n",
       "      <th>mean_fractal_dimension</th>\n",
       "      <th>...</th>\n",
       "      <th>worst_radius</th>\n",
       "      <th>worst_texture</th>\n",
       "      <th>worst_perimeter</th>\n",
       "      <th>worst_area</th>\n",
       "      <th>worst_smoothness</th>\n",
       "      <th>worst_compactness</th>\n",
       "      <th>worst_concavity</th>\n",
       "      <th>worst_concave_points</th>\n",
       "      <th>worst_symmetry</th>\n",
       "      <th>worst_fractal_dimension</th>\n",
       "    </tr>\n",
       "  </thead>\n",
       "  <tbody>\n",
       "    <tr>\n",
       "      <th>0</th>\n",
       "      <td>-0.157678</td>\n",
       "      <td>-0.879112</td>\n",
       "      <td>-0.165550</td>\n",
       "      <td>-0.232872</td>\n",
       "      <td>-0.744948</td>\n",
       "      <td>-0.479220</td>\n",
       "      <td>-0.550769</td>\n",
       "      <td>-0.628488</td>\n",
       "      <td>-0.997431</td>\n",
       "      <td>-0.392627</td>\n",
       "      <td>...</td>\n",
       "      <td>-0.149283</td>\n",
       "      <td>-1.156442</td>\n",
       "      <td>-0.153789</td>\n",
       "      <td>-0.224951</td>\n",
       "      <td>0.490637</td>\n",
       "      <td>0.139396</td>\n",
       "      <td>-0.094470</td>\n",
       "      <td>-0.301949</td>\n",
       "      <td>0.525611</td>\n",
       "      <td>0.511081</td>\n",
       "    </tr>\n",
       "    <tr>\n",
       "      <th>1</th>\n",
       "      <td>-1.312779</td>\n",
       "      <td>-2.560965</td>\n",
       "      <td>-1.328928</td>\n",
       "      <td>-1.150194</td>\n",
       "      <td>-0.240274</td>\n",
       "      <td>-1.153621</td>\n",
       "      <td>-1.143404</td>\n",
       "      <td>-1.199934</td>\n",
       "      <td>-1.773612</td>\n",
       "      <td>0.184077</td>\n",
       "      <td>...</td>\n",
       "      <td>-1.341759</td>\n",
       "      <td>-2.517236</td>\n",
       "      <td>-1.380396</td>\n",
       "      <td>-1.124201</td>\n",
       "      <td>0.254373</td>\n",
       "      <td>-1.046076</td>\n",
       "      <td>-1.159323</td>\n",
       "      <td>-1.480312</td>\n",
       "      <td>-1.387506</td>\n",
       "      <td>-0.507149</td>\n",
       "    </tr>\n",
       "    <tr>\n",
       "      <th>2</th>\n",
       "      <td>0.695279</td>\n",
       "      <td>-0.420644</td>\n",
       "      <td>0.602798</td>\n",
       "      <td>0.596040</td>\n",
       "      <td>-0.947380</td>\n",
       "      <td>-0.675307</td>\n",
       "      <td>-0.477679</td>\n",
       "      <td>-0.212084</td>\n",
       "      <td>-0.899042</td>\n",
       "      <td>-1.174101</td>\n",
       "      <td>...</td>\n",
       "      <td>0.534893</td>\n",
       "      <td>-0.143296</td>\n",
       "      <td>0.445031</td>\n",
       "      <td>0.432104</td>\n",
       "      <td>-0.613360</td>\n",
       "      <td>-0.367031</td>\n",
       "      <td>0.004076</td>\n",
       "      <td>0.172850</td>\n",
       "      <td>0.223844</td>\n",
       "      <td>-0.886803</td>\n",
       "    </tr>\n",
       "    <tr>\n",
       "      <th>3</th>\n",
       "      <td>-0.211154</td>\n",
       "      <td>-1.301385</td>\n",
       "      <td>-0.255876</td>\n",
       "      <td>-0.308762</td>\n",
       "      <td>-1.291796</td>\n",
       "      <td>-0.661126</td>\n",
       "      <td>-0.788224</td>\n",
       "      <td>-0.834410</td>\n",
       "      <td>-0.658535</td>\n",
       "      <td>-0.834209</td>\n",
       "      <td>...</td>\n",
       "      <td>-0.263312</td>\n",
       "      <td>-1.490846</td>\n",
       "      <td>-0.312546</td>\n",
       "      <td>-0.354487</td>\n",
       "      <td>-1.339335</td>\n",
       "      <td>-0.169261</td>\n",
       "      <td>-0.176669</td>\n",
       "      <td>-0.458230</td>\n",
       "      <td>-0.524077</td>\n",
       "      <td>-0.220788</td>\n",
       "    </tr>\n",
       "    <tr>\n",
       "      <th>4</th>\n",
       "      <td>-0.753945</td>\n",
       "      <td>-1.738136</td>\n",
       "      <td>-0.820314</td>\n",
       "      <td>-0.745704</td>\n",
       "      <td>-2.095198</td>\n",
       "      <td>-1.505004</td>\n",
       "      <td>-1.175403</td>\n",
       "      <td>-1.326415</td>\n",
       "      <td>-1.933950</td>\n",
       "      <td>-0.956793</td>\n",
       "      <td>...</td>\n",
       "      <td>-0.951354</td>\n",
       "      <td>-1.934512</td>\n",
       "      <td>-0.997708</td>\n",
       "      <td>-0.869505</td>\n",
       "      <td>-1.783511</td>\n",
       "      <td>-1.108951</td>\n",
       "      <td>-1.094404</td>\n",
       "      <td>-1.366747</td>\n",
       "      <td>-1.071301</td>\n",
       "      <td>-0.898278</td>\n",
       "    </tr>\n",
       "  </tbody>\n",
       "</table>\n",
       "<p>5 rows × 30 columns</p>\n",
       "</div>"
      ],
      "text/plain": [
       "   mean_radius  mean_texture  mean_perimeter  mean_area  mean_smoothness  \\\n",
       "0    -0.157678     -0.879112       -0.165550  -0.232872        -0.744948   \n",
       "1    -1.312779     -2.560965       -1.328928  -1.150194        -0.240274   \n",
       "2     0.695279     -0.420644        0.602798   0.596040        -0.947380   \n",
       "3    -0.211154     -1.301385       -0.255876  -0.308762        -1.291796   \n",
       "4    -0.753945     -1.738136       -0.820314  -0.745704        -2.095198   \n",
       "\n",
       "   mean_compactness  mean_concavity  mean_concave_points  mean_symmetry  \\\n",
       "0         -0.479220       -0.550769            -0.628488      -0.997431   \n",
       "1         -1.153621       -1.143404            -1.199934      -1.773612   \n",
       "2         -0.675307       -0.477679            -0.212084      -0.899042   \n",
       "3         -0.661126       -0.788224            -0.834410      -0.658535   \n",
       "4         -1.505004       -1.175403            -1.326415      -1.933950   \n",
       "\n",
       "   mean_fractal_dimension  ...  worst_radius  worst_texture  worst_perimeter  \\\n",
       "0               -0.392627  ...     -0.149283      -1.156442        -0.153789   \n",
       "1                0.184077  ...     -1.341759      -2.517236        -1.380396   \n",
       "2               -1.174101  ...      0.534893      -0.143296         0.445031   \n",
       "3               -0.834209  ...     -0.263312      -1.490846        -0.312546   \n",
       "4               -0.956793  ...     -0.951354      -1.934512        -0.997708   \n",
       "\n",
       "   worst_area  worst_smoothness  worst_compactness  worst_concavity  \\\n",
       "0   -0.224951          0.490637           0.139396        -0.094470   \n",
       "1   -1.124201          0.254373          -1.046076        -1.159323   \n",
       "2    0.432104         -0.613360          -0.367031         0.004076   \n",
       "3   -0.354487         -1.339335          -0.169261        -0.176669   \n",
       "4   -0.869505         -1.783511          -1.108951        -1.094404   \n",
       "\n",
       "   worst_concave_points  worst_symmetry  worst_fractal_dimension  \n",
       "0             -0.301949        0.525611                 0.511081  \n",
       "1             -1.480312       -1.387506                -0.507149  \n",
       "2              0.172850        0.223844                -0.886803  \n",
       "3             -0.458230       -0.524077                -0.220788  \n",
       "4             -1.366747       -1.071301                -0.898278  \n",
       "\n",
       "[5 rows x 30 columns]"
      ]
     },
     "execution_count": 15,
     "metadata": {},
     "output_type": "execute_result"
    }
   ],
   "source": [
    "v_feature_name = df_train_x.columns\n",
    "\n",
    "scaler = StandardScaler()\n",
    "df_scaled = scaler.fit_transform(df_raw_x)\n",
    "df_scaled = pd.DataFrame(df_scaled, columns =v_feature_name)\n",
    "df_scaled.head()"
   ]
  },
  {
   "cell_type": "code",
   "execution_count": 18,
   "id": "f5448580-5e6a-484f-9ab5-bb29e4e6f212",
   "metadata": {},
   "outputs": [
    {
     "name": "stdout",
     "output_type": "stream",
     "text": [
      "train data X size :(192, 30)\n",
      "test data X size :(128, 30)\n"
     ]
    }
   ],
   "source": [
    "#데이터 분할\n",
    "df_scaled_train_x, df_scaled_test_x = train_test_split(df_scaled, test_size = 0.4, random_state =1234)\n",
    "print(\"train data X size :{}\".format(df_scaled_train_x.shape))\n",
    "print(\"test data X size :{}\".format(df_scaled_test_x.shape))"
   ]
  },
  {
   "cell_type": "markdown",
   "id": "be57e2f9-938f-4c43-87d1-12dc2a9e535b",
   "metadata": {},
   "source": [
    "### Scale 조정 후 새로운 모델 생성"
   ]
  },
  {
   "cell_type": "code",
   "execution_count": 19,
   "id": "69dad32e-cbaf-417b-9d4b-5988a8b3c5ea",
   "metadata": {},
   "outputs": [
    {
     "name": "stdout",
     "output_type": "stream",
     "text": [
      "Accuracy on training set: 0.995\n",
      "Accuracy on test set : 0.953\n"
     ]
    }
   ],
   "source": [
    "nn_scaled = MLPClassifier(random_state =1234)\n",
    "nn_scaled.fit(df_scaled_train_x, df_train_y)\n",
    "\n",
    "print(\"Accuracy on training set: {:.3f}\".format(nn_scaled.score(df_scaled_train_x, df_train_y)))\n",
    "\n",
    "print(\"Accuracy on test set : {:.3f}\".format(nn_scaled.score(df_scaled_test_x, df_test_y)))"
   ]
  },
  {
   "cell_type": "markdown",
   "id": "0f2977e2-ca75-485b-add9-19be9b7e0981",
   "metadata": {},
   "source": [
    "### Hidden layer 은닉층 변경에 따른 모델 성능"
   ]
  },
  {
   "cell_type": "code",
   "execution_count": 20,
   "id": "5f0c2c67-bfeb-487b-96d6-0e960745ab50",
   "metadata": {},
   "outputs": [],
   "source": [
    "train_accuracy = []; test_accuracy=[]\n",
    "\n",
    "para_hidden = [5 * hidden for hidden in range(1, 21)]\n",
    "\n",
    "for v_hidden in para_hidden:\n",
    "    #nn = MLPClassifier(hidden_layer_sizes = v_hidden, random_state = 1234) 히든 레이어 1개\n",
    "    nn = MLPClassifier(hidden_layer_sizes = (v_hidden, v_hidden), random_state = 1234) #히든 레이어 2개\n",
    "    nn.fit(df_scaled_train_x, df_train_y)\n",
    "    train_accuracy.append(nn.score(df_scaled_train_x, df_train_y))\n",
    "    test_accuracy.append(nn.score(df_scaled_test_x, df_test_y))\n",
    "    \n",
    "    \n",
    "df_accuracy_hidden = pd.DataFrame()\n",
    "df_accuracy_hidden[\"HiddenLayer\"] = para_hidden\n",
    "df_accuracy_hidden[\"TrainAccuracy\"] = train_accuracy\n",
    "df_accuracy_hidden[\"TestAccuracy\"] = test_accuracy"
   ]
  },
  {
   "cell_type": "code",
   "execution_count": 21,
   "id": "91150648-21c0-49e3-b0c2-8ff543c92d9a",
   "metadata": {},
   "outputs": [
    {
     "data": {
      "text/html": [
       "<div>\n",
       "<style scoped>\n",
       "    .dataframe tbody tr th:only-of-type {\n",
       "        vertical-align: middle;\n",
       "    }\n",
       "\n",
       "    .dataframe tbody tr th {\n",
       "        vertical-align: top;\n",
       "    }\n",
       "\n",
       "    .dataframe thead th {\n",
       "        text-align: right;\n",
       "    }\n",
       "</style>\n",
       "<table border=\"1\" class=\"dataframe\">\n",
       "  <thead>\n",
       "    <tr style=\"text-align: right;\">\n",
       "      <th></th>\n",
       "      <th>HiddenLayer</th>\n",
       "      <th>TrainAccuracy</th>\n",
       "      <th>TestAccuracy</th>\n",
       "    </tr>\n",
       "  </thead>\n",
       "  <tbody>\n",
       "    <tr>\n",
       "      <th>0</th>\n",
       "      <td>5</td>\n",
       "      <td>0.953</td>\n",
       "      <td>0.891</td>\n",
       "    </tr>\n",
       "    <tr>\n",
       "      <th>1</th>\n",
       "      <td>10</td>\n",
       "      <td>0.984</td>\n",
       "      <td>0.938</td>\n",
       "    </tr>\n",
       "    <tr>\n",
       "      <th>2</th>\n",
       "      <td>15</td>\n",
       "      <td>0.984</td>\n",
       "      <td>0.922</td>\n",
       "    </tr>\n",
       "    <tr>\n",
       "      <th>3</th>\n",
       "      <td>20</td>\n",
       "      <td>0.984</td>\n",
       "      <td>0.945</td>\n",
       "    </tr>\n",
       "    <tr>\n",
       "      <th>4</th>\n",
       "      <td>25</td>\n",
       "      <td>0.995</td>\n",
       "      <td>0.961</td>\n",
       "    </tr>\n",
       "    <tr>\n",
       "      <th>5</th>\n",
       "      <td>30</td>\n",
       "      <td>1.000</td>\n",
       "      <td>0.953</td>\n",
       "    </tr>\n",
       "    <tr>\n",
       "      <th>6</th>\n",
       "      <td>35</td>\n",
       "      <td>0.995</td>\n",
       "      <td>0.945</td>\n",
       "    </tr>\n",
       "    <tr>\n",
       "      <th>7</th>\n",
       "      <td>40</td>\n",
       "      <td>1.000</td>\n",
       "      <td>0.938</td>\n",
       "    </tr>\n",
       "    <tr>\n",
       "      <th>8</th>\n",
       "      <td>45</td>\n",
       "      <td>1.000</td>\n",
       "      <td>0.953</td>\n",
       "    </tr>\n",
       "    <tr>\n",
       "      <th>9</th>\n",
       "      <td>50</td>\n",
       "      <td>1.000</td>\n",
       "      <td>0.945</td>\n",
       "    </tr>\n",
       "    <tr>\n",
       "      <th>10</th>\n",
       "      <td>55</td>\n",
       "      <td>1.000</td>\n",
       "      <td>0.961</td>\n",
       "    </tr>\n",
       "    <tr>\n",
       "      <th>11</th>\n",
       "      <td>60</td>\n",
       "      <td>1.000</td>\n",
       "      <td>0.953</td>\n",
       "    </tr>\n",
       "    <tr>\n",
       "      <th>12</th>\n",
       "      <td>65</td>\n",
       "      <td>1.000</td>\n",
       "      <td>0.938</td>\n",
       "    </tr>\n",
       "    <tr>\n",
       "      <th>13</th>\n",
       "      <td>70</td>\n",
       "      <td>1.000</td>\n",
       "      <td>0.945</td>\n",
       "    </tr>\n",
       "    <tr>\n",
       "      <th>14</th>\n",
       "      <td>75</td>\n",
       "      <td>1.000</td>\n",
       "      <td>0.953</td>\n",
       "    </tr>\n",
       "    <tr>\n",
       "      <th>15</th>\n",
       "      <td>80</td>\n",
       "      <td>1.000</td>\n",
       "      <td>0.945</td>\n",
       "    </tr>\n",
       "    <tr>\n",
       "      <th>16</th>\n",
       "      <td>85</td>\n",
       "      <td>1.000</td>\n",
       "      <td>0.953</td>\n",
       "    </tr>\n",
       "    <tr>\n",
       "      <th>17</th>\n",
       "      <td>90</td>\n",
       "      <td>1.000</td>\n",
       "      <td>0.945</td>\n",
       "    </tr>\n",
       "    <tr>\n",
       "      <th>18</th>\n",
       "      <td>95</td>\n",
       "      <td>1.000</td>\n",
       "      <td>0.945</td>\n",
       "    </tr>\n",
       "    <tr>\n",
       "      <th>19</th>\n",
       "      <td>100</td>\n",
       "      <td>1.000</td>\n",
       "      <td>0.945</td>\n",
       "    </tr>\n",
       "  </tbody>\n",
       "</table>\n",
       "</div>"
      ],
      "text/plain": [
       "    HiddenLayer  TrainAccuracy  TestAccuracy\n",
       "0             5          0.953         0.891\n",
       "1            10          0.984         0.938\n",
       "2            15          0.984         0.922\n",
       "3            20          0.984         0.945\n",
       "4            25          0.995         0.961\n",
       "5            30          1.000         0.953\n",
       "6            35          0.995         0.945\n",
       "7            40          1.000         0.938\n",
       "8            45          1.000         0.953\n",
       "9            50          1.000         0.945\n",
       "10           55          1.000         0.961\n",
       "11           60          1.000         0.953\n",
       "12           65          1.000         0.938\n",
       "13           70          1.000         0.945\n",
       "14           75          1.000         0.953\n",
       "15           80          1.000         0.945\n",
       "16           85          1.000         0.953\n",
       "17           90          1.000         0.945\n",
       "18           95          1.000         0.945\n",
       "19          100          1.000         0.945"
      ]
     },
     "execution_count": 21,
     "metadata": {},
     "output_type": "execute_result"
    }
   ],
   "source": [
    "df_accuracy_hidden.round(3)"
   ]
  },
  {
   "cell_type": "code",
   "execution_count": 22,
   "id": "f1323cec-229c-467e-90a5-0d2d31d6c31a",
   "metadata": {},
   "outputs": [
    {
     "data": {
      "text/plain": [
       "<matplotlib.legend.Legend at 0x7f4240636460>"
      ]
     },
     "execution_count": 22,
     "metadata": {},
     "output_type": "execute_result"
    },
    {
     "data": {
      "image/png": "[encoded data removed]",
      "text/plain": [
       "<Figure size 640x480 with 1 Axes>"
      ]
     },
     "metadata": {},
     "output_type": "display_data"
    }
   ],
   "source": [
    "plt.plot(para_hidden, train_accuracy, linestyle = \"-\", label = \"Train Accuracy\")\n",
    "plt.plot(para_hidden, test_accuracy, linestyle = \"--\", label = \"Test Accuracy\")\n",
    "plt.xlabel(\"Hidden\"); plt.ylabel(\"accuray\")\n",
    "plt.legend()"
   ]
  },
  {
   "cell_type": "markdown",
   "id": "5056deca-6826-4474-a5a5-f840598750d2",
   "metadata": {},
   "source": [
    "scale 후 그래프에서 히든이 55일때 테스트 값이 높으므로 55로 선택한다."
   ]
  },
  {
   "cell_type": "markdown",
   "id": "bf2b7f14-48a0-4e51-a5bf-eed9d79510f1",
   "metadata": {},
   "source": [
    "### Activation : 활성화 함수에 다른 모델 성능"
   ]
  },
  {
   "cell_type": "code",
   "execution_count": 26,
   "id": "9be8c37a-f2e5-4912-b111-c3d4a57d5b9a",
   "metadata": {},
   "outputs": [],
   "source": [
    "train_accuracy = []; test_accuracy=[]\n",
    "\n",
    "para_function = ['logistic', 'tanh', 'relu']\n",
    "\n",
    "for v_function in para_function:\n",
    "    nn = MLPClassifier(activation= v_function, hidden_layer_sizes = (55,55), random_state = 1234) #히든 레이어 2개\n",
    "    nn.fit(df_scaled_train_x, df_train_y)\n",
    "    train_accuracy.append(nn.score(df_scaled_train_x, df_train_y))\n",
    "    test_accuracy.append(nn.score(df_scaled_test_x, df_test_y))\n",
    "    \n",
    "    \n",
    "df_accuracy_function = pd.DataFrame()\n",
    "df_accuracy_function[\"ActivationFrunction\"] = para_function\n",
    "df_accuracy_function[\"TrainAccuracy\"] = train_accuracy\n",
    "df_accuracy_function[\"TestAccuracy\"] = test_accuracy"
   ]
  },
  {
   "cell_type": "code",
   "execution_count": 27,
   "id": "53cf9f54-dd79-4c52-9398-25367355e3fa",
   "metadata": {},
   "outputs": [
    {
     "data": {
      "text/html": [
       "<div>\n",
       "<style scoped>\n",
       "    .dataframe tbody tr th:only-of-type {\n",
       "        vertical-align: middle;\n",
       "    }\n",
       "\n",
       "    .dataframe tbody tr th {\n",
       "        vertical-align: top;\n",
       "    }\n",
       "\n",
       "    .dataframe thead th {\n",
       "        text-align: right;\n",
       "    }\n",
       "</style>\n",
       "<table border=\"1\" class=\"dataframe\">\n",
       "  <thead>\n",
       "    <tr style=\"text-align: right;\">\n",
       "      <th></th>\n",
       "      <th>ActivationFrunction</th>\n",
       "      <th>TrainAccuracy</th>\n",
       "      <th>TestAccuracy</th>\n",
       "    </tr>\n",
       "  </thead>\n",
       "  <tbody>\n",
       "    <tr>\n",
       "      <th>0</th>\n",
       "      <td>logistic</td>\n",
       "      <td>0.995</td>\n",
       "      <td>0.938</td>\n",
       "    </tr>\n",
       "    <tr>\n",
       "      <th>1</th>\n",
       "      <td>tanh</td>\n",
       "      <td>1.000</td>\n",
       "      <td>0.945</td>\n",
       "    </tr>\n",
       "    <tr>\n",
       "      <th>2</th>\n",
       "      <td>relu</td>\n",
       "      <td>1.000</td>\n",
       "      <td>0.961</td>\n",
       "    </tr>\n",
       "  </tbody>\n",
       "</table>\n",
       "</div>"
      ],
      "text/plain": [
       "  ActivationFrunction  TrainAccuracy  TestAccuracy\n",
       "0            logistic          0.995         0.938\n",
       "1                tanh          1.000         0.945\n",
       "2                relu          1.000         0.961"
      ]
     },
     "execution_count": 27,
     "metadata": {},
     "output_type": "execute_result"
    }
   ],
   "source": [
    "df_accuracy_function.round(3)"
   ]
  },
  {
   "cell_type": "code",
   "execution_count": 28,
   "id": "fc641bd2-5086-4055-a1cd-31dced137091",
   "metadata": {},
   "outputs": [
    {
     "data": {
      "text/plain": [
       "<matplotlib.legend.Legend at 0x7f424058b490>"
      ]
     },
     "execution_count": 28,
     "metadata": {},
     "output_type": "execute_result"
    },
    {
     "data": {
      "image/png": "[encoded data removed]",
      "text/plain": [
       "<Figure size 640x480 with 1 Axes>"
      ]
     },
     "metadata": {},
     "output_type": "display_data"
    }
   ],
   "source": [
    "plt.plot(para_function, train_accuracy, linestyle = \"-\", label = \"Train Accuracy\")\n",
    "plt.plot(para_function, test_accuracy, linestyle = \"--\", label = \"Test Accuracy\")\n",
    "plt.xlabel(\"ActivationFunction\"); plt.ylabel(\"accuray\")\n",
    "plt.legend()"
   ]
  },
  {
   "cell_type": "markdown",
   "id": "5a9def66-8fa1-49eb-8369-8100e46775f4",
   "metadata": {},
   "source": [
    "activate == relu 로 선택"
   ]
  },
  {
   "cell_type": "markdown",
   "id": "87707f02-09d6-4926-83e8-9f2c6f07a2d3",
   "metadata": {},
   "source": [
    "### Solver : 가중치 최적화 변경에 따른 모델 성능"
   ]
  },
  {
   "cell_type": "code",
   "execution_count": 30,
   "id": "d7385f23-5e09-45f8-aa35-cbde82b91f04",
   "metadata": {},
   "outputs": [],
   "source": [
    "train_accuracy = []; test_accuracy=[]\n",
    "\n",
    "para_solver = ['lbfgs','sgd', 'adam']\n",
    "\n",
    "for v_solver in para_solver:\n",
    "    nn = MLPClassifier(solver = v_solver, activation= \"relu\", hidden_layer_sizes = (55,55), random_state = 1234) #히든 레이어 2개\n",
    "    nn.fit(df_scaled_train_x, df_train_y)\n",
    "    train_accuracy.append(nn.score(df_scaled_train_x, df_train_y))\n",
    "    test_accuracy.append(nn.score(df_scaled_test_x, df_test_y))\n",
    "    \n",
    "    \n",
    "df_accuracy_solver = pd.DataFrame()\n",
    "df_accuracy_solver[\"Solver\"] = para_solver\n",
    "df_accuracy_solver[\"TrainAccuracy\"] = train_accuracy\n",
    "df_accuracy_solver[\"TestAccuracy\"] = test_accuracy"
   ]
  },
  {
   "cell_type": "code",
   "execution_count": 31,
   "id": "e487fbcc-6e71-4419-bcc4-f1e949f32c1a",
   "metadata": {},
   "outputs": [
    {
     "data": {
      "text/html": [
       "<div>\n",
       "<style scoped>\n",
       "    .dataframe tbody tr th:only-of-type {\n",
       "        vertical-align: middle;\n",
       "    }\n",
       "\n",
       "    .dataframe tbody tr th {\n",
       "        vertical-align: top;\n",
       "    }\n",
       "\n",
       "    .dataframe thead th {\n",
       "        text-align: right;\n",
       "    }\n",
       "</style>\n",
       "<table border=\"1\" class=\"dataframe\">\n",
       "  <thead>\n",
       "    <tr style=\"text-align: right;\">\n",
       "      <th></th>\n",
       "      <th>Solver</th>\n",
       "      <th>TrainAccuracy</th>\n",
       "      <th>TestAccuracy</th>\n",
       "    </tr>\n",
       "  </thead>\n",
       "  <tbody>\n",
       "    <tr>\n",
       "      <th>0</th>\n",
       "      <td>lbfgs</td>\n",
       "      <td>1.000</td>\n",
       "      <td>0.953</td>\n",
       "    </tr>\n",
       "    <tr>\n",
       "      <th>1</th>\n",
       "      <td>sgd</td>\n",
       "      <td>0.969</td>\n",
       "      <td>0.906</td>\n",
       "    </tr>\n",
       "    <tr>\n",
       "      <th>2</th>\n",
       "      <td>adam</td>\n",
       "      <td>1.000</td>\n",
       "      <td>0.961</td>\n",
       "    </tr>\n",
       "  </tbody>\n",
       "</table>\n",
       "</div>"
      ],
      "text/plain": [
       "  Solver  TrainAccuracy  TestAccuracy\n",
       "0  lbfgs          1.000         0.953\n",
       "1    sgd          0.969         0.906\n",
       "2   adam          1.000         0.961"
      ]
     },
     "execution_count": 31,
     "metadata": {},
     "output_type": "execute_result"
    }
   ],
   "source": [
    "df_accuracy_solver.round(3)"
   ]
  },
  {
   "cell_type": "code",
   "execution_count": 32,
   "id": "fdad162b-471b-4abe-9754-34bb13f0647c",
   "metadata": {},
   "outputs": [
    {
     "data": {
      "text/plain": [
       "<matplotlib.legend.Legend at 0x7f4240561670>"
      ]
     },
     "execution_count": 32,
     "metadata": {},
     "output_type": "execute_result"
    },
    {
     "data": {
      "image/png": "[encoded data removed]",
      "text/plain": [
       "<Figure size 640x480 with 1 Axes>"
      ]
     },
     "metadata": {},
     "output_type": "display_data"
    }
   ],
   "source": [
    "plt.plot(para_solver, train_accuracy, linestyle = \"-\", label = \"Train Accuracy\")\n",
    "plt.plot(para_solver, test_accuracy, linestyle = \"--\", label = \"Test Accuracy\")\n",
    "plt.xlabel(\"Solver\"); plt.ylabel(\"accuray\")\n",
    "plt.legend()"
   ]
  },
  {
   "cell_type": "markdown",
   "id": "7a7af7f0-7f4f-4fa0-bd40-495d7b3ee23a",
   "metadata": {},
   "source": [
    "Adam 일때 값의 차이가 적으므로 선택"
   ]
  },
  {
   "cell_type": "markdown",
   "id": "b3ee3fdc-3baa-4d95-99e1-d4f3defeb9e9",
   "metadata": {},
   "source": [
    "### Mini Batch 변경에 따른 모델 성능"
   ]
  },
  {
   "cell_type": "code",
   "execution_count": 33,
   "id": "d82a3cb5-9496-4206-b5e8-800fc615b77a",
   "metadata": {},
   "outputs": [],
   "source": [
    "train_accuracy = []; test_accuracy=[]\n",
    "\n",
    "para_batch = [batch*20 for batch in range(1,10)]\n",
    "\n",
    "for v_batch in para_batch:\n",
    "    nn = MLPClassifier(batch_size = v_batch, solver = \"adam\", activation= \"relu\", hidden_layer_sizes = (55,55), random_state = 1234) #히든 레이어 2개\n",
    "    nn.fit(df_scaled_train_x, df_train_y)\n",
    "    train_accuracy.append(nn.score(df_scaled_train_x, df_train_y))\n",
    "    test_accuracy.append(nn.score(df_scaled_test_x, df_test_y))\n",
    "    \n",
    "    \n",
    "df_accuracy_batch = pd.DataFrame()\n",
    "df_accuracy_batch[\"Mini Batch\"] = para_batch\n",
    "df_accuracy_batch[\"TrainAccuracy\"] = train_accuracy\n",
    "df_accuracy_batch[\"TestAccuracy\"] = test_accuracy"
   ]
  },
  {
   "cell_type": "code",
   "execution_count": 34,
   "id": "41cb6869-dce0-44d7-97fd-7d70b41f06c8",
   "metadata": {},
   "outputs": [
    {
     "data": {
      "text/html": [
       "<div>\n",
       "<style scoped>\n",
       "    .dataframe tbody tr th:only-of-type {\n",
       "        vertical-align: middle;\n",
       "    }\n",
       "\n",
       "    .dataframe tbody tr th {\n",
       "        vertical-align: top;\n",
       "    }\n",
       "\n",
       "    .dataframe thead th {\n",
       "        text-align: right;\n",
       "    }\n",
       "</style>\n",
       "<table border=\"1\" class=\"dataframe\">\n",
       "  <thead>\n",
       "    <tr style=\"text-align: right;\">\n",
       "      <th></th>\n",
       "      <th>Mini Batch</th>\n",
       "      <th>TrainAccuracy</th>\n",
       "      <th>TestAccuracy</th>\n",
       "    </tr>\n",
       "  </thead>\n",
       "  <tbody>\n",
       "    <tr>\n",
       "      <th>0</th>\n",
       "      <td>20</td>\n",
       "      <td>1.0</td>\n",
       "      <td>0.961</td>\n",
       "    </tr>\n",
       "    <tr>\n",
       "      <th>1</th>\n",
       "      <td>40</td>\n",
       "      <td>1.0</td>\n",
       "      <td>0.961</td>\n",
       "    </tr>\n",
       "    <tr>\n",
       "      <th>2</th>\n",
       "      <td>60</td>\n",
       "      <td>1.0</td>\n",
       "      <td>0.961</td>\n",
       "    </tr>\n",
       "    <tr>\n",
       "      <th>3</th>\n",
       "      <td>80</td>\n",
       "      <td>1.0</td>\n",
       "      <td>0.961</td>\n",
       "    </tr>\n",
       "    <tr>\n",
       "      <th>4</th>\n",
       "      <td>100</td>\n",
       "      <td>1.0</td>\n",
       "      <td>0.961</td>\n",
       "    </tr>\n",
       "    <tr>\n",
       "      <th>5</th>\n",
       "      <td>120</td>\n",
       "      <td>1.0</td>\n",
       "      <td>0.961</td>\n",
       "    </tr>\n",
       "    <tr>\n",
       "      <th>6</th>\n",
       "      <td>140</td>\n",
       "      <td>1.0</td>\n",
       "      <td>0.961</td>\n",
       "    </tr>\n",
       "    <tr>\n",
       "      <th>7</th>\n",
       "      <td>160</td>\n",
       "      <td>1.0</td>\n",
       "      <td>0.961</td>\n",
       "    </tr>\n",
       "    <tr>\n",
       "      <th>8</th>\n",
       "      <td>180</td>\n",
       "      <td>1.0</td>\n",
       "      <td>0.961</td>\n",
       "    </tr>\n",
       "  </tbody>\n",
       "</table>\n",
       "</div>"
      ],
      "text/plain": [
       "   Mini Batch  TrainAccuracy  TestAccuracy\n",
       "0          20            1.0         0.961\n",
       "1          40            1.0         0.961\n",
       "2          60            1.0         0.961\n",
       "3          80            1.0         0.961\n",
       "4         100            1.0         0.961\n",
       "5         120            1.0         0.961\n",
       "6         140            1.0         0.961\n",
       "7         160            1.0         0.961\n",
       "8         180            1.0         0.961"
      ]
     },
     "execution_count": 34,
     "metadata": {},
     "output_type": "execute_result"
    }
   ],
   "source": [
    "df_accuracy_batch.round(3)"
   ]
  },
  {
   "cell_type": "code",
   "execution_count": 35,
   "id": "f5213ec4-ff8b-4263-bdb3-13bb89175c41",
   "metadata": {},
   "outputs": [
    {
     "data": {
      "text/plain": [
       "<matplotlib.legend.Legend at 0x7f42404c72b0>"
      ]
     },
     "execution_count": 35,
     "metadata": {},
     "output_type": "execute_result"
    },
    {
     "data": {
      "image/png": "[encoded data removed]",
      "text/plain": [
       "<Figure size 640x480 with 1 Axes>"
      ]
     },
     "metadata": {},
     "output_type": "display_data"
    }
   ],
   "source": [
    "plt.plot(para_batch, train_accuracy, linestyle = \"-\", label = \"Train Accuracy\")\n",
    "plt.plot(para_batch, test_accuracy, linestyle = \"--\", label = \"Test Accuracy\")\n",
    "plt.xlabel(\"Mini Batch Size\"); plt.ylabel(\"accuray\")\n",
    "plt.legend()"
   ]
  },
  {
   "cell_type": "markdown",
   "id": "5a55a09b-5616-44f6-812d-27e5882c8912",
   "metadata": {},
   "source": [
    "mini batch 로 인한 모델 성능이 변하지 않으므로 입력하지 않는다"
   ]
  },
  {
   "cell_type": "markdown",
   "id": "417991f9-14f5-4807-a0b5-6b96671254ec",
   "metadata": {},
   "source": [
    "### 최종 모델 선택"
   ]
  },
  {
   "cell_type": "code",
   "execution_count": 36,
   "id": "9c150c8e-36f6-4cb6-89e3-c3210f32e98b",
   "metadata": {},
   "outputs": [
    {
     "name": "stdout",
     "output_type": "stream",
     "text": [
      "Accuracy on training set:1.000\n",
      "\n",
      "Accuracy on test set:0.961\n",
      "\n",
      "Confusion matrix:\n",
      "[[92  5]\n",
      " [ 0 31]]\n",
      "              precision    recall  f1-score   support\n",
      "\n",
      "           0      1.000     0.948     0.974        97\n",
      "           1      0.861     1.000     0.925        31\n",
      "\n",
      "    accuracy                          0.961       128\n",
      "   macro avg      0.931     0.974     0.949       128\n",
      "weighted avg      0.966     0.961     0.962       128\n",
      "\n"
     ]
    }
   ],
   "source": [
    "nn_final = MLPClassifier(solver = \"adam\", activation= \"relu\", hidden_layer_sizes = (55,55), random_state = 1234)\n",
    "nn_final.fit(df_scaled_train_x, df_train_y)\n",
    "y_pred = nn_final.predict(df_scaled_test_x)\n",
    "\n",
    "print('Accuracy on training set:{:.3f}\\n'.format(nn_final.score(df_scaled_train_x,df_train_y)))\n",
    "print('Accuracy on test set:{:.3f}\\n'.format(nn_final.score(df_scaled_test_x,df_test_y)))\n",
    "print('Confusion matrix:\\n{}'.format(confusion_matrix(df_test_y,y_pred)))\n",
    "# 목표변수의 빈도 불균형 : f1 score로 모델 평가\n",
    "print(classification_report(df_test_y,y_pred,digits=3))"
   ]
  },
  {
   "cell_type": "markdown",
   "id": "02d28284-d1a6-4211-add8-9b50542aeb7d",
   "metadata": {},
   "source": [
    "### 결론\n",
    "최종모델에서는 adam, relu, hidden = 55, 55 선택하였다.\n",
    "\n",
    "정확도는 0.961이고 채ㅜ려"
   ]
  }
 ],
 "metadata": {
  "kernelspec": {
   "display_name": "Python 3 (ipykernel)",
   "language": "python",
   "name": "python3"
  },
  "language_info": {
   "codemirror_mode": {
    "name": "ipython",
    "version": 3
   },
   "file_extension": ".py",
   "mimetype": "text/x-python",
   "name": "python",
   "nbconvert_exporter": "python",
   "pygments_lexer": "ipython3",
   "version": "3.9.13"
  }
 },
 "nbformat": 4,
 "nbformat_minor": 5
}
