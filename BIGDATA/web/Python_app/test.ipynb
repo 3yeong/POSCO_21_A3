{
 "cells": [
  {
   "cell_type": "code",
   "execution_count": 2,
   "metadata": {},
   "outputs": [
    {
     "name": "stdout",
     "output_type": "stream",
     "text": [
      "[0]\n"
     ]
    }
   ],
   "source": [
    "import pandas as pd\n",
    "import pickle\n",
    "\n",
    "# pkl 파일 로드\n",
    "model = pickle.load(open('model.sav', 'rb'))\n",
    "\n",
    "# 새로운 고객 데이터 생성\n",
    "new_data = pd.DataFrame({'성별': ['여'], '거주지역': ['경기'], '연령': [35], '결제등록카드': ['롯데카드'], '유입경로': ['지인추천'], '자녀여부': ['Yes'], '구매일로부터기간': [180], '총결제금액': [50000]})\n",
    "\n",
    "# 예측 결과 출력\n",
    "y_pred = model.predict(new_data)\n",
    "print(y_pred)\n"
   ]
  },
  {
   "cell_type": "code",
   "execution_count": null,
   "metadata": {},
   "outputs": [],
   "source": []
  }
 ],
 "metadata": {
  "kernelspec": {
   "display_name": "base",
   "language": "python",
   "name": "python3"
  },
  "language_info": {
   "codemirror_mode": {
    "name": "ipython",
    "version": 3
   },
   "file_extension": ".py",
   "mimetype": "text/x-python",
   "name": "python",
   "nbconvert_exporter": "python",
   "pygments_lexer": "ipython3",
   "version": "3.9.13"
  },
  "orig_nbformat": 4
 },
 "nbformat": 4,
 "nbformat_minor": 2
}
