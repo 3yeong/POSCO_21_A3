{
 "cells": [
  {
   "cell_type": "code",
   "execution_count": 3,
   "id": "3332239f",
   "metadata": {},
   "outputs": [],
   "source": [
    "import pandas as pd\n",
    "import matplotlib.pyplot as plt\n",
    "import matplotlib\n",
    "from sklearn.preprocessing import StandardScaler\n",
    "from sklearn.model_selection import train_test_split\n",
    "from sklearn.svm import SVC\n",
    "from sklearn.model_selection import GridSearchCV\n",
    "from sklearn.metrics import accuracy_score, f1_score\n",
    "from sklearn.metrics import confusion_matrix, classification_report\n",
    "matplotlib.rc('font',family = 'NanumGothic')\n",
    "matplotlib.rc('axes', unicode_minus = False)"
   ]
  },
  {
   "cell_type": "code",
   "execution_count": 5,
   "id": "903f6122",
   "metadata": {},
   "outputs": [],
   "source": [
    "df = pd.read_csv('./member_data_set.csv')"
   ]
  },
  {
   "cell_type": "code",
   "execution_count": 6,
   "id": "8f0f52bb",
   "metadata": {},
   "outputs": [
    {
     "data": {
      "text/html": [
       "<div>\n",
       "<style scoped>\n",
       "    .dataframe tbody tr th:only-of-type {\n",
       "        vertical-align: middle;\n",
       "    }\n",
       "\n",
       "    .dataframe tbody tr th {\n",
       "        vertical-align: top;\n",
       "    }\n",
       "\n",
       "    .dataframe thead th {\n",
       "        text-align: right;\n",
       "    }\n",
       "</style>\n",
       "<table border=\"1\" class=\"dataframe\">\n",
       "  <thead>\n",
       "    <tr style=\"text-align: right;\">\n",
       "      <th></th>\n",
       "      <th>성별</th>\n",
       "      <th>결혼유무</th>\n",
       "      <th>거주지역</th>\n",
       "      <th>연령</th>\n",
       "      <th>결제등록카드</th>\n",
       "      <th>유입경로</th>\n",
       "      <th>자녀여부</th>\n",
       "      <th>고객분류</th>\n",
       "      <th>총결제금액</th>\n",
       "      <th>총사용포인트</th>\n",
       "      <th>Y</th>\n",
       "    </tr>\n",
       "  </thead>\n",
       "  <tbody>\n",
       "    <tr>\n",
       "      <th>0</th>\n",
       "      <td>여</td>\n",
       "      <td>기혼</td>\n",
       "      <td>인천</td>\n",
       "      <td>37.0</td>\n",
       "      <td>국민은행</td>\n",
       "      <td>인스타그램</td>\n",
       "      <td>Yes</td>\n",
       "      <td>이탈고객</td>\n",
       "      <td>16314.0</td>\n",
       "      <td>9486.0</td>\n",
       "      <td>1</td>\n",
       "    </tr>\n",
       "    <tr>\n",
       "      <th>1</th>\n",
       "      <td>여</td>\n",
       "      <td>기혼</td>\n",
       "      <td>제주</td>\n",
       "      <td>33.0</td>\n",
       "      <td>국민은행</td>\n",
       "      <td>검색광고</td>\n",
       "      <td>Yes</td>\n",
       "      <td>이탈고객</td>\n",
       "      <td>3800.0</td>\n",
       "      <td>1810.0</td>\n",
       "      <td>1</td>\n",
       "    </tr>\n",
       "    <tr>\n",
       "      <th>2</th>\n",
       "      <td>여</td>\n",
       "      <td>기혼</td>\n",
       "      <td>부산</td>\n",
       "      <td>32.0</td>\n",
       "      <td>하나은행</td>\n",
       "      <td>네이버블로그</td>\n",
       "      <td>Yes</td>\n",
       "      <td>이탈고객</td>\n",
       "      <td>95844.0</td>\n",
       "      <td>23196.0</td>\n",
       "      <td>0</td>\n",
       "    </tr>\n",
       "    <tr>\n",
       "      <th>3</th>\n",
       "      <td>여</td>\n",
       "      <td>미혼</td>\n",
       "      <td>경남</td>\n",
       "      <td>34.0</td>\n",
       "      <td>기업은행</td>\n",
       "      <td>지인추천</td>\n",
       "      <td>No</td>\n",
       "      <td>이탈고객</td>\n",
       "      <td>116532.0</td>\n",
       "      <td>35388.0</td>\n",
       "      <td>0</td>\n",
       "    </tr>\n",
       "    <tr>\n",
       "      <th>4</th>\n",
       "      <td>여</td>\n",
       "      <td>기혼</td>\n",
       "      <td>서울</td>\n",
       "      <td>32.0</td>\n",
       "      <td>신한은행</td>\n",
       "      <td>직접검색</td>\n",
       "      <td>Yes</td>\n",
       "      <td>이탈고객</td>\n",
       "      <td>19900.0</td>\n",
       "      <td>8020.0</td>\n",
       "      <td>1</td>\n",
       "    </tr>\n",
       "  </tbody>\n",
       "</table>\n",
       "</div>"
      ],
      "text/plain": [
       "  성별 결혼유무 거주지역    연령 결제등록카드    유입경로 자녀여부  고객분류     총결제금액   총사용포인트  Y\n",
       "0  여   기혼   인천  37.0   국민은행   인스타그램  Yes  이탈고객   16314.0   9486.0  1\n",
       "1  여   기혼   제주  33.0   국민은행    검색광고  Yes  이탈고객    3800.0   1810.0  1\n",
       "2  여   기혼   부산  32.0   하나은행  네이버블로그  Yes  이탈고객   95844.0  23196.0  0\n",
       "3  여   미혼   경남  34.0   기업은행    지인추천   No  이탈고객  116532.0  35388.0  0\n",
       "4  여   기혼   서울  32.0   신한은행    직접검색  Yes  이탈고객   19900.0   8020.0  1"
      ]
     },
     "execution_count": 6,
     "metadata": {},
     "output_type": "execute_result"
    }
   ],
   "source": [
    "df.head()"
   ]
  },
  {
   "cell_type": "code",
   "execution_count": 7,
   "id": "f76e796c",
   "metadata": {},
   "outputs": [],
   "source": [
    "df = pd.get_dummies(df)\n",
    "\n",
    "del df['총사용포인트']\n",
    "del df['고객분류_미구매고객']\n",
    "del df['고객분류_이탈고객']\n",
    "del df['고객분류_잠재이탈고객']\n",
    "del df['고객분류_재구매가능성 고객']\n",
    "del df['고객분류_현재고객']"
   ]
  },
  {
   "cell_type": "code",
   "execution_count": 8,
   "id": "30cdf7f4",
   "metadata": {},
   "outputs": [
    {
     "data": {
      "text/plain": [
       "연령               0\n",
       "총결제금액            0\n",
       "Y                0\n",
       "성별_남             0\n",
       "성별_여             0\n",
       "결혼유무_기혼          0\n",
       "결혼유무_미혼          0\n",
       "거주지역_강원          0\n",
       "거주지역_경기          0\n",
       "거주지역_경남          0\n",
       "거주지역_경북          0\n",
       "거주지역_광주          0\n",
       "거주지역_대구          0\n",
       "거주지역_대전          0\n",
       "거주지역_부산          0\n",
       "거주지역_서울          0\n",
       "거주지역_인천          0\n",
       "거주지역_전남          0\n",
       "거주지역_전북          0\n",
       "거주지역_제주          0\n",
       "거주지역_충남          0\n",
       "거주지역_충북          0\n",
       "결제등록카드_BC카드      0\n",
       "결제등록카드_SC제일은행    0\n",
       "결제등록카드_경남은행      0\n",
       "결제등록카드_광주은행      0\n",
       "결제등록카드_국민은행      0\n",
       "결제등록카드_국민카드      0\n",
       "결제등록카드_기업은행      0\n",
       "결제등록카드_농협중앙회     0\n",
       "결제등록카드_농협회원조합    0\n",
       "결제등록카드_대구은행      0\n",
       "결제등록카드_롯데카드      0\n",
       "결제등록카드_미래에셋증권    0\n",
       "결제등록카드_부산은행      0\n",
       "결제등록카드_삼성카드      0\n",
       "결제등록카드_새마을금고     0\n",
       "결제등록카드_신한은행      0\n",
       "결제등록카드_신한카드      0\n",
       "결제등록카드_신협중앙회     0\n",
       "결제등록카드_씨티은행      0\n",
       "결제등록카드_외환은행      0\n",
       "결제등록카드_우리은행      0\n",
       "결제등록카드_우체국       0\n",
       "결제등록카드_하나은행      0\n",
       "결제등록카드_현대카드      0\n",
       "유입경로_검색광고        0\n",
       "유입경로_네이버블로그      0\n",
       "유입경로_네이버카페       0\n",
       "유입경로_매장쿠폰        0\n",
       "유입경로_오픈마켓        0\n",
       "유입경로_이마트         0\n",
       "유입경로_인스타그램       0\n",
       "유입경로_지인추천        0\n",
       "유입경로_직접검색        0\n",
       "유입경로_페이스북        0\n",
       "자녀여부_No          0\n",
       "자녀여부_Yes         0\n",
       "dtype: int64"
      ]
     },
     "execution_count": 8,
     "metadata": {},
     "output_type": "execute_result"
    }
   ],
   "source": [
    "df.isnull().sum()"
   ]
  },
  {
   "cell_type": "code",
   "execution_count": 9,
   "id": "21067cb2",
   "metadata": {},
   "outputs": [
    {
     "name": "stdout",
     "output_type": "stream",
     "text": [
      "분할 전 설명변수 데이터: (67416, 57)\n",
      "분할 후 설명변수 데이터:Train (47191, 57) Test (20225, 57)\n"
     ]
    }
   ],
   "source": [
    "df_raw_x = df.drop('Y',axis = 1, inplace = False )\n",
    "df_raw_y = df['Y']\n",
    "\n",
    "df_train_x, df_test_x, df_train_y, df_test_y = train_test_split(df_raw_x, df_raw_y,test_size=0.3,random_state = 1434)\n",
    "print(\"분할 전 설명변수 데이터:\",df_raw_x.shape)\n",
    "print(\"분할 후 설명변수 데이터:Train\",df_train_x.shape,\"Test\",df_test_x.shape)"
   ]
  },
  {
   "cell_type": "code",
   "execution_count": 10,
   "id": "21c4e3ca",
   "metadata": {},
   "outputs": [
    {
     "name": "stdout",
     "output_type": "stream",
     "text": [
      "0.7848318535313937\n",
      "0.787\n"
     ]
    }
   ],
   "source": [
    "svm_uncustomized = SVC(random_state =1434)\n",
    "svm_uncustomized.fit(df_train_x,df_train_y)\n",
    "print(svm_uncustomized.score(df_train_x,df_train_y))\n",
    "print(svm_uncustomized.score(df_test_x,df_test_y).round(3))"
   ]
  },
  {
   "cell_type": "code",
   "execution_count": 11,
   "id": "a4856a84",
   "metadata": {},
   "outputs": [
    {
     "data": {
      "text/html": [
       "<div>\n",
       "<style scoped>\n",
       "    .dataframe tbody tr th:only-of-type {\n",
       "        vertical-align: middle;\n",
       "    }\n",
       "\n",
       "    .dataframe tbody tr th {\n",
       "        vertical-align: top;\n",
       "    }\n",
       "\n",
       "    .dataframe thead th {\n",
       "        text-align: right;\n",
       "    }\n",
       "</style>\n",
       "<table border=\"1\" class=\"dataframe\">\n",
       "  <thead>\n",
       "    <tr style=\"text-align: right;\">\n",
       "      <th></th>\n",
       "      <th>연령</th>\n",
       "      <th>총결제금액</th>\n",
       "      <th>성별_남</th>\n",
       "      <th>성별_여</th>\n",
       "      <th>결혼유무_기혼</th>\n",
       "      <th>결혼유무_미혼</th>\n",
       "      <th>거주지역_강원</th>\n",
       "      <th>거주지역_경기</th>\n",
       "      <th>거주지역_경남</th>\n",
       "      <th>거주지역_경북</th>\n",
       "      <th>...</th>\n",
       "      <th>유입경로_네이버카페</th>\n",
       "      <th>유입경로_매장쿠폰</th>\n",
       "      <th>유입경로_오픈마켓</th>\n",
       "      <th>유입경로_이마트</th>\n",
       "      <th>유입경로_인스타그램</th>\n",
       "      <th>유입경로_지인추천</th>\n",
       "      <th>유입경로_직접검색</th>\n",
       "      <th>유입경로_페이스북</th>\n",
       "      <th>자녀여부_No</th>\n",
       "      <th>자녀여부_Yes</th>\n",
       "    </tr>\n",
       "  </thead>\n",
       "  <tbody>\n",
       "    <tr>\n",
       "      <th>0</th>\n",
       "      <td>1.425097</td>\n",
       "      <td>-0.416590</td>\n",
       "      <td>-0.178026</td>\n",
       "      <td>0.178026</td>\n",
       "      <td>0.428132</td>\n",
       "      <td>-0.428132</td>\n",
       "      <td>-0.300867</td>\n",
       "      <td>-0.483971</td>\n",
       "      <td>-0.196406</td>\n",
       "      <td>-0.208166</td>\n",
       "      <td>...</td>\n",
       "      <td>-0.275783</td>\n",
       "      <td>-0.073882</td>\n",
       "      <td>-0.160692</td>\n",
       "      <td>-0.051161</td>\n",
       "      <td>1.267858</td>\n",
       "      <td>-0.330646</td>\n",
       "      <td>-0.119362</td>\n",
       "      <td>-0.1333</td>\n",
       "      <td>-0.491032</td>\n",
       "      <td>0.491032</td>\n",
       "    </tr>\n",
       "    <tr>\n",
       "      <th>1</th>\n",
       "      <td>0.067410</td>\n",
       "      <td>-0.584832</td>\n",
       "      <td>-0.178026</td>\n",
       "      <td>0.178026</td>\n",
       "      <td>0.428132</td>\n",
       "      <td>-0.428132</td>\n",
       "      <td>-0.300867</td>\n",
       "      <td>-0.483971</td>\n",
       "      <td>-0.196406</td>\n",
       "      <td>-0.208166</td>\n",
       "      <td>...</td>\n",
       "      <td>-0.275783</td>\n",
       "      <td>-0.073882</td>\n",
       "      <td>-0.160692</td>\n",
       "      <td>-0.051161</td>\n",
       "      <td>-0.788732</td>\n",
       "      <td>-0.330646</td>\n",
       "      <td>-0.119362</td>\n",
       "      <td>-0.1333</td>\n",
       "      <td>-0.491032</td>\n",
       "      <td>0.491032</td>\n",
       "    </tr>\n",
       "    <tr>\n",
       "      <th>2</th>\n",
       "      <td>-0.272012</td>\n",
       "      <td>0.652636</td>\n",
       "      <td>-0.178026</td>\n",
       "      <td>0.178026</td>\n",
       "      <td>0.428132</td>\n",
       "      <td>-0.428132</td>\n",
       "      <td>-0.300867</td>\n",
       "      <td>-0.483971</td>\n",
       "      <td>-0.196406</td>\n",
       "      <td>-0.208166</td>\n",
       "      <td>...</td>\n",
       "      <td>-0.275783</td>\n",
       "      <td>-0.073882</td>\n",
       "      <td>-0.160692</td>\n",
       "      <td>-0.051161</td>\n",
       "      <td>-0.788732</td>\n",
       "      <td>-0.330646</td>\n",
       "      <td>-0.119362</td>\n",
       "      <td>-0.1333</td>\n",
       "      <td>-0.491032</td>\n",
       "      <td>0.491032</td>\n",
       "    </tr>\n",
       "    <tr>\n",
       "      <th>3</th>\n",
       "      <td>0.406832</td>\n",
       "      <td>0.930772</td>\n",
       "      <td>-0.178026</td>\n",
       "      <td>0.178026</td>\n",
       "      <td>-2.335726</td>\n",
       "      <td>2.335726</td>\n",
       "      <td>-0.300867</td>\n",
       "      <td>-0.483971</td>\n",
       "      <td>5.091495</td>\n",
       "      <td>-0.208166</td>\n",
       "      <td>...</td>\n",
       "      <td>-0.275783</td>\n",
       "      <td>-0.073882</td>\n",
       "      <td>-0.160692</td>\n",
       "      <td>-0.051161</td>\n",
       "      <td>-0.788732</td>\n",
       "      <td>3.024384</td>\n",
       "      <td>-0.119362</td>\n",
       "      <td>-0.1333</td>\n",
       "      <td>2.036526</td>\n",
       "      <td>-2.036526</td>\n",
       "    </tr>\n",
       "    <tr>\n",
       "      <th>4</th>\n",
       "      <td>-0.272012</td>\n",
       "      <td>-0.368379</td>\n",
       "      <td>-0.178026</td>\n",
       "      <td>0.178026</td>\n",
       "      <td>0.428132</td>\n",
       "      <td>-0.428132</td>\n",
       "      <td>-0.300867</td>\n",
       "      <td>-0.483971</td>\n",
       "      <td>-0.196406</td>\n",
       "      <td>-0.208166</td>\n",
       "      <td>...</td>\n",
       "      <td>-0.275783</td>\n",
       "      <td>-0.073882</td>\n",
       "      <td>-0.160692</td>\n",
       "      <td>-0.051161</td>\n",
       "      <td>-0.788732</td>\n",
       "      <td>-0.330646</td>\n",
       "      <td>8.377889</td>\n",
       "      <td>-0.1333</td>\n",
       "      <td>-0.491032</td>\n",
       "      <td>0.491032</td>\n",
       "    </tr>\n",
       "  </tbody>\n",
       "</table>\n",
       "<p>5 rows × 57 columns</p>\n",
       "</div>"
      ],
      "text/plain": [
       "         연령     총결제금액      성별_남      성별_여   결혼유무_기혼   결혼유무_미혼   거주지역_강원  \\\n",
       "0  1.425097 -0.416590 -0.178026  0.178026  0.428132 -0.428132 -0.300867   \n",
       "1  0.067410 -0.584832 -0.178026  0.178026  0.428132 -0.428132 -0.300867   \n",
       "2 -0.272012  0.652636 -0.178026  0.178026  0.428132 -0.428132 -0.300867   \n",
       "3  0.406832  0.930772 -0.178026  0.178026 -2.335726  2.335726 -0.300867   \n",
       "4 -0.272012 -0.368379 -0.178026  0.178026  0.428132 -0.428132 -0.300867   \n",
       "\n",
       "    거주지역_경기   거주지역_경남   거주지역_경북  ...  유입경로_네이버카페  유입경로_매장쿠폰  유입경로_오픈마켓  \\\n",
       "0 -0.483971 -0.196406 -0.208166  ...   -0.275783  -0.073882  -0.160692   \n",
       "1 -0.483971 -0.196406 -0.208166  ...   -0.275783  -0.073882  -0.160692   \n",
       "2 -0.483971 -0.196406 -0.208166  ...   -0.275783  -0.073882  -0.160692   \n",
       "3 -0.483971  5.091495 -0.208166  ...   -0.275783  -0.073882  -0.160692   \n",
       "4 -0.483971 -0.196406 -0.208166  ...   -0.275783  -0.073882  -0.160692   \n",
       "\n",
       "   유입경로_이마트  유입경로_인스타그램  유입경로_지인추천  유입경로_직접검색  유입경로_페이스북   자녀여부_No  자녀여부_Yes  \n",
       "0 -0.051161    1.267858  -0.330646  -0.119362    -0.1333 -0.491032  0.491032  \n",
       "1 -0.051161   -0.788732  -0.330646  -0.119362    -0.1333 -0.491032  0.491032  \n",
       "2 -0.051161   -0.788732  -0.330646  -0.119362    -0.1333 -0.491032  0.491032  \n",
       "3 -0.051161   -0.788732   3.024384  -0.119362    -0.1333  2.036526 -2.036526  \n",
       "4 -0.051161   -0.788732  -0.330646   8.377889    -0.1333 -0.491032  0.491032  \n",
       "\n",
       "[5 rows x 57 columns]"
      ]
     },
     "execution_count": 11,
     "metadata": {},
     "output_type": "execute_result"
    }
   ],
   "source": [
    "v_feature_name = df_train_x.columns\n",
    "scaler = StandardScaler()\n",
    "\n",
    "df_scaled = scaler.fit_transform(df_raw_x)\n",
    "df_scaled = pd.DataFrame(df_scaled, columns = v_feature_name)\n",
    "df_scaled.head()"
   ]
  },
  {
   "cell_type": "code",
   "execution_count": 12,
   "id": "6d18ad9f",
   "metadata": {},
   "outputs": [
    {
     "name": "stdout",
     "output_type": "stream",
     "text": [
      "train data X size:(47191, 57)\n",
      "test data X size:(20225, 57)\n"
     ]
    }
   ],
   "source": [
    "df_scaled_train_x, df_scaled_test_x = train_test_split(df_scaled, test_size=0.3,random_state = 1434)\n",
    "print('train data X size:{}'.format(df_scaled_train_x.shape))\n",
    "print('test data X size:{}'.format(df_scaled_test_x.shape))"
   ]
  },
  {
   "cell_type": "code",
   "execution_count": 13,
   "id": "356d69b9",
   "metadata": {},
   "outputs": [
    {
     "name": "stdout",
     "output_type": "stream",
     "text": [
      "Accuracy on training set:0.787\n",
      "Accuracy on test set:0.774\n"
     ]
    }
   ],
   "source": [
    "svm_scaled =SVC(random_state= 1434)\n",
    "svm_scaled.fit(df_scaled_train_x,df_train_y)\n",
    "\n",
    "print(\"Accuracy on training set:{:.3f}\".format(svm_scaled.score(df_scaled_train_x,df_train_y)))\n",
    "print(\"Accuracy on test set:{:.3f}\".format(svm_scaled.score(df_scaled_test_x,df_test_y)))"
   ]
  },
  {
   "cell_type": "code",
   "execution_count": 14,
   "id": "83c023db",
   "metadata": {},
   "outputs": [],
   "source": [
    "train_accuracy=[];test_accuracy=[]\n",
    "para_c = [10**c for c in range(-2,3)]\n",
    "\n",
    "for v_C in para_c:\n",
    "    svm = SVC(C=v_C ,random_state=1434)\n",
    "    svm.fit(df_scaled_train_x,df_train_y)\n",
    "    train_accuracy.append(svm.score(df_scaled_train_x,df_train_y))\n",
    "    test_accuracy.append(svm.score(df_scaled_test_x,df_test_y))\n",
    "    \n",
    "df_accuracy_c = pd.DataFrame()\n",
    "df_accuracy_c['C'] = para_c\n",
    "df_accuracy_c['TrainAccuracy'] = train_accuracy\n",
    "df_accuracy_c['TestAccuracy'] = test_accuracy"
   ]
  },
  {
   "cell_type": "code",
   "execution_count": 15,
   "id": "95a5e253",
   "metadata": {},
   "outputs": [
    {
     "data": {
      "text/html": [
       "<div>\n",
       "<style scoped>\n",
       "    .dataframe tbody tr th:only-of-type {\n",
       "        vertical-align: middle;\n",
       "    }\n",
       "\n",
       "    .dataframe tbody tr th {\n",
       "        vertical-align: top;\n",
       "    }\n",
       "\n",
       "    .dataframe thead th {\n",
       "        text-align: right;\n",
       "    }\n",
       "</style>\n",
       "<table border=\"1\" class=\"dataframe\">\n",
       "  <thead>\n",
       "    <tr style=\"text-align: right;\">\n",
       "      <th></th>\n",
       "      <th>C</th>\n",
       "      <th>TrainAccuracy</th>\n",
       "      <th>TestAccuracy</th>\n",
       "    </tr>\n",
       "  </thead>\n",
       "  <tbody>\n",
       "    <tr>\n",
       "      <th>0</th>\n",
       "      <td>0.01</td>\n",
       "      <td>0.676</td>\n",
       "      <td>0.679</td>\n",
       "    </tr>\n",
       "    <tr>\n",
       "      <th>1</th>\n",
       "      <td>0.10</td>\n",
       "      <td>0.753</td>\n",
       "      <td>0.754</td>\n",
       "    </tr>\n",
       "    <tr>\n",
       "      <th>2</th>\n",
       "      <td>1.00</td>\n",
       "      <td>0.787</td>\n",
       "      <td>0.774</td>\n",
       "    </tr>\n",
       "    <tr>\n",
       "      <th>3</th>\n",
       "      <td>10.00</td>\n",
       "      <td>0.807</td>\n",
       "      <td>0.763</td>\n",
       "    </tr>\n",
       "    <tr>\n",
       "      <th>4</th>\n",
       "      <td>100.00</td>\n",
       "      <td>0.820</td>\n",
       "      <td>0.748</td>\n",
       "    </tr>\n",
       "  </tbody>\n",
       "</table>\n",
       "</div>"
      ],
      "text/plain": [
       "        C  TrainAccuracy  TestAccuracy\n",
       "0    0.01          0.676         0.679\n",
       "1    0.10          0.753         0.754\n",
       "2    1.00          0.787         0.774\n",
       "3   10.00          0.807         0.763\n",
       "4  100.00          0.820         0.748"
      ]
     },
     "execution_count": 15,
     "metadata": {},
     "output_type": "execute_result"
    }
   ],
   "source": [
    "df_accuracy_c.round(3)"
   ]
  },
  {
   "cell_type": "code",
   "execution_count": 16,
   "id": "77b00fd0",
   "metadata": {},
   "outputs": [
    {
     "data": {
      "text/plain": [
       "<matplotlib.legend.Legend at 0x7f6f1b52ae20>"
      ]
     },
     "execution_count": 16,
     "metadata": {},
     "output_type": "execute_result"
    },
    {
     "data": {
      "image/png": "[encoded data removed]",
      "text/plain": [
       "<Figure size 640x480 with 1 Axes>"
      ]
     },
     "metadata": {},
     "output_type": "display_data"
    }
   ],
   "source": [
    "plt.plot(para_c,train_accuracy, linestyle=\"-\",label='Train Accuracy')\n",
    "plt.plot(para_c,test_accuracy, linestyle=\"--\",label='TestAccuracy')\n",
    "plt.ylabel('accuracy'); plt.xlabel('c')\n",
    "plt.legend()"
   ]
  },
  {
   "cell_type": "markdown",
   "id": "8d30b081",
   "metadata": {},
   "source": [
    "----------------------------------------------"
   ]
  },
  {
   "cell_type": "code",
   "execution_count": 17,
   "id": "9e4d161f",
   "metadata": {},
   "outputs": [],
   "source": [
    "train_accuracy=[];test_accuracy=[]\n",
    "para_gamma = [10**gamma for gamma in range(-2,2)]\n",
    "\n",
    "for v_gamma in para_gamma:\n",
    "    svm = SVC(gamma = v_gamma, C=1.0,random_state=1434)\n",
    "    svm.fit(df_scaled_train_x,df_train_y)\n",
    "    train_accuracy.append(svm.score(df_scaled_train_x,df_train_y))\n",
    "    test_accuracy.append(svm.score(df_scaled_test_x,df_test_y))\n",
    "    \n",
    "df_accuracy_gamma = pd.DataFrame()\n",
    "df_accuracy_gamma['gamma'] = para_gamma\n",
    "df_accuracy_gamma['TrainAccuracy'] = train_accuracy\n",
    "df_accuracy_gamma['TestAccuracy'] = test_accuracy"
   ]
  },
  {
   "cell_type": "code",
   "execution_count": 18,
   "id": "1920fbfc",
   "metadata": {},
   "outputs": [
    {
     "data": {
      "text/plain": [
       "<matplotlib.legend.Legend at 0x7f6f1ac4c5e0>"
      ]
     },
     "execution_count": 18,
     "metadata": {},
     "output_type": "execute_result"
    },
    {
     "data": {
      "image/png": "[encoded data removed]",
      "text/plain": [
       "<Figure size 640x480 with 1 Axes>"
      ]
     },
     "metadata": {},
     "output_type": "display_data"
    }
   ],
   "source": [
    "plt.plot(para_gamma,train_accuracy, linestyle=\"-\",label='Train Accuracy')\n",
    "plt.plot(para_gamma,test_accuracy, linestyle=\"--\",label='TestAccuracy')\n",
    "plt.ylabel('accuracy'); plt.xlabel('c')\n",
    "plt.legend()"
   ]
  },
  {
   "cell_type": "markdown",
   "id": "8d736755",
   "metadata": {},
   "source": [
    "-------------------------------------------------------------"
   ]
  },
  {
   "cell_type": "code",
   "execution_count": 19,
   "id": "97ecda04",
   "metadata": {},
   "outputs": [
    {
     "name": "stdout",
     "output_type": "stream",
     "text": [
      "train:0.790\n",
      "test:0.764\n",
      "confusion:\n",
      "[[ 4668  3856]\n",
      " [  907 10794]]\n",
      "              precision    recall  f1-score   support\n",
      "\n",
      "           0      0.837     0.548     0.662      8524\n",
      "           1      0.737     0.922     0.819     11701\n",
      "\n",
      "    accuracy                          0.764     20225\n",
      "   macro avg      0.787     0.735     0.741     20225\n",
      "weighted avg      0.779     0.764     0.753     20225\n",
      "\n"
     ]
    }
   ],
   "source": [
    "svc_final = SVC( gamma = 0.03, C=0.85,random_state=1434)\n",
    "svc_final.fit(df_scaled_train_x,df_train_y)\n",
    "y_pred = svc_final.predict(df_scaled_test_x)\n",
    "\n",
    "print('train:{:.3f}'.format(svc_final.score(df_scaled_train_x,df_train_y)))\n",
    "print('test:{:.3f}'.format(svc_final.score(df_scaled_test_x,df_test_y)))\n",
    "print('confusion:\\n{}'.format(confusion_matrix(df_test_y,y_pred)))\n",
    "print(classification_report(df_test_y,y_pred,digits=3))"
   ]
  },
  {
   "cell_type": "code",
   "execution_count": null,
   "id": "8681022e",
   "metadata": {},
   "outputs": [],
   "source": []
  }
 ],
 "metadata": {
  "kernelspec": {
   "display_name": "Python 3 (ipykernel)",
   "language": "python",
   "name": "python3"
  },
  "language_info": {
   "codemirror_mode": {
    "name": "ipython",
    "version": 3
   },
   "file_extension": ".py",
   "mimetype": "text/x-python",
   "name": "python",
   "nbconvert_exporter": "python",
   "pygments_lexer": "ipython3",
   "version": "3.9.13"
  }
 },
 "nbformat": 4,
 "nbformat_minor": 5
}
