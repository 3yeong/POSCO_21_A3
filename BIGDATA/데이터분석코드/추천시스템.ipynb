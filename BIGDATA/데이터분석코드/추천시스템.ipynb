{
 "cells": [
  {
   "cell_type": "code",
   "execution_count": 1,
   "id": "90b9f680",
   "metadata": {},
   "outputs": [],
   "source": [
    "import pandas as pd"
   ]
  },
  {
   "cell_type": "code",
   "execution_count": 2,
   "id": "a9967331",
   "metadata": {},
   "outputs": [
    {
     "name": "stderr",
     "output_type": "stream",
     "text": [
      "/tmp/ipykernel_31261/3742450261.py:1: DtypeWarning: Columns (0,5) have mixed types. Specify dtype option on import or set low_memory=False.\n",
      "  df = pd.read_csv('./Sales_data_RMF.csv')\n"
     ]
    },
    {
     "data": {
      "text/html": [
       "<div>\n",
       "<style scoped>\n",
       "    .dataframe tbody tr th:only-of-type {\n",
       "        vertical-align: middle;\n",
       "    }\n",
       "\n",
       "    .dataframe tbody tr th {\n",
       "        vertical-align: top;\n",
       "    }\n",
       "\n",
       "    .dataframe thead th {\n",
       "        text-align: right;\n",
       "    }\n",
       "</style>\n",
       "<table border=\"1\" class=\"dataframe\">\n",
       "  <thead>\n",
       "    <tr style=\"text-align: right;\">\n",
       "      <th></th>\n",
       "      <th>주문번호</th>\n",
       "      <th>배송완료일</th>\n",
       "      <th>배송시작일</th>\n",
       "      <th>구매일</th>\n",
       "      <th>구매시월령</th>\n",
       "      <th>고객번호</th>\n",
       "      <th>구매금액</th>\n",
       "      <th>결제금액</th>\n",
       "      <th>물품대분류</th>\n",
       "      <th>상품명</th>\n",
       "      <th>포인트</th>\n",
       "      <th>배송준비시간</th>\n",
       "      <th>배송시간</th>\n",
       "      <th>물품중분류</th>\n",
       "      <th>물품소분류</th>\n",
       "    </tr>\n",
       "  </thead>\n",
       "  <tbody>\n",
       "    <tr>\n",
       "      <th>0</th>\n",
       "      <td>901011864201303</td>\n",
       "      <td>2021-01-05</td>\n",
       "      <td>2021-01-01</td>\n",
       "      <td>2020-12-31</td>\n",
       "      <td>35</td>\n",
       "      <td>201901010750089</td>\n",
       "      <td>74560</td>\n",
       "      <td>43825</td>\n",
       "      <td>팬티</td>\n",
       "      <td>하기스 매직핏팬티 5단계 남아 124매(팬티형)</td>\n",
       "      <td>30735</td>\n",
       "      <td>1 days</td>\n",
       "      <td>4 days</td>\n",
       "      <td>기저귀</td>\n",
       "      <td>팬티형</td>\n",
       "    </tr>\n",
       "    <tr>\n",
       "      <th>1</th>\n",
       "      <td>901011864430366</td>\n",
       "      <td>2021-01-03</td>\n",
       "      <td>2021-01-01</td>\n",
       "      <td>2020-12-31</td>\n",
       "      <td>9</td>\n",
       "      <td>201901010750143</td>\n",
       "      <td>74560</td>\n",
       "      <td>43825</td>\n",
       "      <td>팬티</td>\n",
       "      <td>하기스 매직핏팬티 3단계 남아 184매(팬티형)</td>\n",
       "      <td>30735</td>\n",
       "      <td>1 days</td>\n",
       "      <td>2 days</td>\n",
       "      <td>기저귀</td>\n",
       "      <td>팬티형</td>\n",
       "    </tr>\n",
       "    <tr>\n",
       "      <th>2</th>\n",
       "      <td>81231186197954</td>\n",
       "      <td>2021-01-05</td>\n",
       "      <td>2021-01-01</td>\n",
       "      <td>2020-12-31</td>\n",
       "      <td>22</td>\n",
       "      <td>201812310749820</td>\n",
       "      <td>53920</td>\n",
       "      <td>36769</td>\n",
       "      <td>팬티</td>\n",
       "      <td>하기스 네이처메이드 팬티 5단계 여아 80매(팬티형)</td>\n",
       "      <td>17151</td>\n",
       "      <td>1 days</td>\n",
       "      <td>4 days</td>\n",
       "      <td>기저귀</td>\n",
       "      <td>팬티형</td>\n",
       "    </tr>\n",
       "    <tr>\n",
       "      <th>3</th>\n",
       "      <td>812311863500220</td>\n",
       "      <td>2021-01-03</td>\n",
       "      <td>2021-01-01</td>\n",
       "      <td>2020-12-31</td>\n",
       "      <td>8</td>\n",
       "      <td>201812310750007</td>\n",
       "      <td>52160</td>\n",
       "      <td>32408</td>\n",
       "      <td>팬티</td>\n",
       "      <td>하기스 보송보송팬티 4단계 공용 124매(팬티형)</td>\n",
       "      <td>19752</td>\n",
       "      <td>1 days</td>\n",
       "      <td>2 days</td>\n",
       "      <td>기저귀</td>\n",
       "      <td>팬티형</td>\n",
       "    </tr>\n",
       "    <tr>\n",
       "      <th>4</th>\n",
       "      <td>812311863220192</td>\n",
       "      <td>2021-01-03</td>\n",
       "      <td>2021-01-01</td>\n",
       "      <td>2020-12-31</td>\n",
       "      <td>23</td>\n",
       "      <td>201812310749977</td>\n",
       "      <td>47360</td>\n",
       "      <td>30066</td>\n",
       "      <td>팬티</td>\n",
       "      <td>하기스 에어솔솔 팬티 5단계 남아용 80매(팬티형)</td>\n",
       "      <td>17294</td>\n",
       "      <td>1 days</td>\n",
       "      <td>2 days</td>\n",
       "      <td>기저귀</td>\n",
       "      <td>팬티형</td>\n",
       "    </tr>\n",
       "  </tbody>\n",
       "</table>\n",
       "</div>"
      ],
      "text/plain": [
       "              주문번호       배송완료일       배송시작일         구매일  구매시월령  \\\n",
       "0  901011864201303  2021-01-05  2021-01-01  2020-12-31     35   \n",
       "1  901011864430366  2021-01-03  2021-01-01  2020-12-31      9   \n",
       "2   81231186197954  2021-01-05  2021-01-01  2020-12-31     22   \n",
       "3  812311863500220  2021-01-03  2021-01-01  2020-12-31      8   \n",
       "4  812311863220192  2021-01-03  2021-01-01  2020-12-31     23   \n",
       "\n",
       "              고객번호   구매금액   결제금액 물품대분류                            상품명    포인트  \\\n",
       "0  201901010750089  74560  43825    팬티     하기스 매직핏팬티 5단계 남아 124매(팬티형)  30735   \n",
       "1  201901010750143  74560  43825    팬티     하기스 매직핏팬티 3단계 남아 184매(팬티형)  30735   \n",
       "2  201812310749820  53920  36769    팬티  하기스 네이처메이드 팬티 5단계 여아 80매(팬티형)  17151   \n",
       "3  201812310750007  52160  32408    팬티    하기스 보송보송팬티 4단계 공용 124매(팬티형)  19752   \n",
       "4  201812310749977  47360  30066    팬티   하기스 에어솔솔 팬티 5단계 남아용 80매(팬티형)  17294   \n",
       "\n",
       "   배송준비시간    배송시간 물품중분류 물품소분류  \n",
       "0  1 days  4 days   기저귀   팬티형  \n",
       "1  1 days  2 days   기저귀   팬티형  \n",
       "2  1 days  4 days   기저귀   팬티형  \n",
       "3  1 days  2 days   기저귀   팬티형  \n",
       "4  1 days  2 days   기저귀   팬티형  "
      ]
     },
     "execution_count": 2,
     "metadata": {},
     "output_type": "execute_result"
    }
   ],
   "source": [
    "df = pd.read_csv('./Sales_data_RMF.csv')\n",
    "df.head()"
   ]
  },
  {
   "cell_type": "code",
   "execution_count": 4,
   "id": "9d3ef17b",
   "metadata": {},
   "outputs": [
    {
     "data": {
      "text/plain": [
       "30922.427897139485"
      ]
     },
     "execution_count": 4,
     "metadata": {},
     "output_type": "execute_result"
    }
   ],
   "source": [
    "df['구매금액'].mean()"
   ]
  },
  {
   "cell_type": "code",
   "execution_count": null,
   "id": "f49f0a9b",
   "metadata": {},
   "outputs": [],
   "source": [
    "30922"
   ]
  }
 ],
 "metadata": {
  "kernelspec": {
   "display_name": "Python 3 (ipykernel)",
   "language": "python",
   "name": "python3"
  },
  "language_info": {
   "codemirror_mode": {
    "name": "ipython",
    "version": 3
   },
   "file_extension": ".py",
   "mimetype": "text/x-python",
   "name": "python",
   "nbconvert_exporter": "python",
   "pygments_lexer": "ipython3",
   "version": "3.9.13"
  }
 },
 "nbformat": 4,
 "nbformat_minor": 5
}
