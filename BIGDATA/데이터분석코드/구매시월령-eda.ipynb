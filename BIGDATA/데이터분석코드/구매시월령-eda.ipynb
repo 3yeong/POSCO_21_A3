{
 "cells": [
  {
   "cell_type": "code",
   "execution_count": 1,
   "id": "8be75703",
   "metadata": {},
   "outputs": [],
   "source": [
    "import pandas as pd"
   ]
  },
  {
   "cell_type": "code",
   "execution_count": 2,
   "id": "8932109a",
   "metadata": {},
   "outputs": [
    {
     "name": "stderr",
     "output_type": "stream",
     "text": [
      "/tmp/ipykernel_25090/922523283.py:1: DtypeWarning: Columns (0,5) have mixed types. Specify dtype option on import or set low_memory=False.\n",
      "  df_s = pd.read_csv('./Sales_data_RMF.csv')\n"
     ]
    }
   ],
   "source": [
    "df_s = pd.read_csv('./Sales_data_RMF.csv')"
   ]
  },
  {
   "cell_type": "code",
   "execution_count": 3,
   "id": "ab37ee3f",
   "metadata": {},
   "outputs": [
    {
     "data": {
      "text/plain": [
       "0          35.0\n",
       "1           9.0\n",
       "2          22.0\n",
       "3           8.0\n",
       "4          23.0\n",
       "          ...  \n",
       "199994     13.0\n",
       "199995    163.0\n",
       "199996    163.0\n",
       "199997      5.0\n",
       "199998     13.0\n",
       "Name: 구매시월령, Length: 199999, dtype: float64"
      ]
     },
     "execution_count": 3,
     "metadata": {},
     "output_type": "execute_result"
    }
   ],
   "source": [
    "df_s['구매시월령']"
   ]
  },
  {
   "cell_type": "code",
   "execution_count": 3,
   "id": "7a2478a3",
   "metadata": {
    "scrolled": false
   },
   "outputs": [
    {
     "data": {
      "text/plain": [
       "0"
      ]
     },
     "execution_count": 3,
     "metadata": {},
     "output_type": "execute_result"
    }
   ],
   "source": [
    "df_s['구매시월령'].isnull().sum()"
   ]
  },
  {
   "cell_type": "code",
   "execution_count": 4,
   "id": "1dbfcf39",
   "metadata": {},
   "outputs": [
    {
     "data": {
      "text/html": [
       "<div>\n",
       "<style scoped>\n",
       "    .dataframe tbody tr th:only-of-type {\n",
       "        vertical-align: middle;\n",
       "    }\n",
       "\n",
       "    .dataframe tbody tr th {\n",
       "        vertical-align: top;\n",
       "    }\n",
       "\n",
       "    .dataframe thead th {\n",
       "        text-align: right;\n",
       "    }\n",
       "</style>\n",
       "<table border=\"1\" class=\"dataframe\">\n",
       "  <thead>\n",
       "    <tr style=\"text-align: right;\">\n",
       "      <th></th>\n",
       "      <th>주문번호</th>\n",
       "      <th>배송완료일</th>\n",
       "      <th>배송시작일</th>\n",
       "      <th>구매일</th>\n",
       "      <th>구매시월령</th>\n",
       "      <th>고객번호</th>\n",
       "      <th>구매금액</th>\n",
       "      <th>결제금액</th>\n",
       "      <th>물품대분류</th>\n",
       "      <th>상품명</th>\n",
       "      <th>포인트</th>\n",
       "      <th>배송준비시간</th>\n",
       "      <th>배송시간</th>\n",
       "      <th>물품중분류</th>\n",
       "      <th>물품소분류</th>\n",
       "    </tr>\n",
       "  </thead>\n",
       "  <tbody>\n",
       "    <tr>\n",
       "      <th>0</th>\n",
       "      <td>901011864201303</td>\n",
       "      <td>2021-01-05</td>\n",
       "      <td>2021-01-01</td>\n",
       "      <td>2020-12-31</td>\n",
       "      <td>35.0</td>\n",
       "      <td>201901010750089</td>\n",
       "      <td>74560</td>\n",
       "      <td>43825</td>\n",
       "      <td>팬티</td>\n",
       "      <td>하기스 매직핏팬티 5단계 남아 124매(팬티형)</td>\n",
       "      <td>30735</td>\n",
       "      <td>1 days</td>\n",
       "      <td>4 days</td>\n",
       "      <td>기저귀</td>\n",
       "      <td>팬티형</td>\n",
       "    </tr>\n",
       "    <tr>\n",
       "      <th>1</th>\n",
       "      <td>901011864430366</td>\n",
       "      <td>2021-01-03</td>\n",
       "      <td>2021-01-01</td>\n",
       "      <td>2020-12-31</td>\n",
       "      <td>9.0</td>\n",
       "      <td>201901010750143</td>\n",
       "      <td>74560</td>\n",
       "      <td>43825</td>\n",
       "      <td>팬티</td>\n",
       "      <td>하기스 매직핏팬티 3단계 남아 184매(팬티형)</td>\n",
       "      <td>30735</td>\n",
       "      <td>1 days</td>\n",
       "      <td>2 days</td>\n",
       "      <td>기저귀</td>\n",
       "      <td>팬티형</td>\n",
       "    </tr>\n",
       "    <tr>\n",
       "      <th>2</th>\n",
       "      <td>81231186197954</td>\n",
       "      <td>2021-01-05</td>\n",
       "      <td>2021-01-01</td>\n",
       "      <td>2020-12-31</td>\n",
       "      <td>22.0</td>\n",
       "      <td>201812310749820</td>\n",
       "      <td>53920</td>\n",
       "      <td>36769</td>\n",
       "      <td>팬티</td>\n",
       "      <td>하기스 네이처메이드 팬티 5단계 여아 80매(팬티형)</td>\n",
       "      <td>17151</td>\n",
       "      <td>1 days</td>\n",
       "      <td>4 days</td>\n",
       "      <td>기저귀</td>\n",
       "      <td>팬티형</td>\n",
       "    </tr>\n",
       "    <tr>\n",
       "      <th>3</th>\n",
       "      <td>812311863500220</td>\n",
       "      <td>2021-01-03</td>\n",
       "      <td>2021-01-01</td>\n",
       "      <td>2020-12-31</td>\n",
       "      <td>8.0</td>\n",
       "      <td>201812310750007</td>\n",
       "      <td>52160</td>\n",
       "      <td>32408</td>\n",
       "      <td>팬티</td>\n",
       "      <td>하기스 보송보송팬티 4단계 공용 124매(팬티형)</td>\n",
       "      <td>19752</td>\n",
       "      <td>1 days</td>\n",
       "      <td>2 days</td>\n",
       "      <td>기저귀</td>\n",
       "      <td>팬티형</td>\n",
       "    </tr>\n",
       "    <tr>\n",
       "      <th>4</th>\n",
       "      <td>812311863220192</td>\n",
       "      <td>2021-01-03</td>\n",
       "      <td>2021-01-01</td>\n",
       "      <td>2020-12-31</td>\n",
       "      <td>23.0</td>\n",
       "      <td>201812310749977</td>\n",
       "      <td>47360</td>\n",
       "      <td>30066</td>\n",
       "      <td>팬티</td>\n",
       "      <td>하기스 에어솔솔 팬티 5단계 남아용 80매(팬티형)</td>\n",
       "      <td>17294</td>\n",
       "      <td>1 days</td>\n",
       "      <td>2 days</td>\n",
       "      <td>기저귀</td>\n",
       "      <td>팬티형</td>\n",
       "    </tr>\n",
       "    <tr>\n",
       "      <th>...</th>\n",
       "      <td>...</td>\n",
       "      <td>...</td>\n",
       "      <td>...</td>\n",
       "      <td>...</td>\n",
       "      <td>...</td>\n",
       "      <td>...</td>\n",
       "      <td>...</td>\n",
       "      <td>...</td>\n",
       "      <td>...</td>\n",
       "      <td>...</td>\n",
       "      <td>...</td>\n",
       "      <td>...</td>\n",
       "      <td>...</td>\n",
       "      <td>...</td>\n",
       "      <td>...</td>\n",
       "    </tr>\n",
       "    <tr>\n",
       "      <th>199994</th>\n",
       "      <td>00806233401-26770461124511</td>\n",
       "      <td>2022-08-11</td>\n",
       "      <td>2022-08-08</td>\n",
       "      <td>2022-08-07</td>\n",
       "      <td>13.0</td>\n",
       "      <td>201906180918504</td>\n",
       "      <td>21300</td>\n",
       "      <td>14910</td>\n",
       "      <td>FC</td>\n",
       "      <td>라네이처 시그니처 울트라슬림 날개 중형 12개입 (EA)</td>\n",
       "      <td>6390</td>\n",
       "      <td>1 days</td>\n",
       "      <td>3 days</td>\n",
       "      <td>생리대</td>\n",
       "      <td>생리대</td>\n",
       "    </tr>\n",
       "    <tr>\n",
       "      <th>199995</th>\n",
       "      <td>00806204436-0461904922687</td>\n",
       "      <td>2022-08-11</td>\n",
       "      <td>2022-08-08</td>\n",
       "      <td>2022-08-07</td>\n",
       "      <td>163.0</td>\n",
       "      <td>201901280776735</td>\n",
       "      <td>7900</td>\n",
       "      <td>5840</td>\n",
       "      <td>FC</td>\n",
       "      <td>라네이처 시그니처 맥시슬림 날개 중형 12개입 (EA)</td>\n",
       "      <td>2060</td>\n",
       "      <td>1 days</td>\n",
       "      <td>3 days</td>\n",
       "      <td>생리대</td>\n",
       "      <td>생리대</td>\n",
       "    </tr>\n",
       "    <tr>\n",
       "      <th>199996</th>\n",
       "      <td>00806204436-0461904922688</td>\n",
       "      <td>2022-08-12</td>\n",
       "      <td>2022-08-08</td>\n",
       "      <td>2022-08-07</td>\n",
       "      <td>163.0</td>\n",
       "      <td>201901280776735</td>\n",
       "      <td>7100</td>\n",
       "      <td>5240</td>\n",
       "      <td>FC</td>\n",
       "      <td>라네이처 시그니처 울트라슬림 날개 대형 10개입 (EA)</td>\n",
       "      <td>1860</td>\n",
       "      <td>1 days</td>\n",
       "      <td>4 days</td>\n",
       "      <td>생리대</td>\n",
       "      <td>생리대</td>\n",
       "    </tr>\n",
       "    <tr>\n",
       "      <th>199997</th>\n",
       "      <td>00806215930-05281256126202</td>\n",
       "      <td>2022-08-10</td>\n",
       "      <td>2022-08-08</td>\n",
       "      <td>2022-08-07</td>\n",
       "      <td>5.0</td>\n",
       "      <td>201906200921415</td>\n",
       "      <td>7100</td>\n",
       "      <td>5240</td>\n",
       "      <td>FC</td>\n",
       "      <td>라네이처 시그니처 울트라슬림 날개 소형 14개입 (EA)</td>\n",
       "      <td>1860</td>\n",
       "      <td>1 days</td>\n",
       "      <td>2 days</td>\n",
       "      <td>생리대</td>\n",
       "      <td>생리대</td>\n",
       "    </tr>\n",
       "    <tr>\n",
       "      <th>199998</th>\n",
       "      <td>00806233401-26770461124510</td>\n",
       "      <td>2022-08-10</td>\n",
       "      <td>2022-08-08</td>\n",
       "      <td>2022-08-07</td>\n",
       "      <td>13.0</td>\n",
       "      <td>201906180918504</td>\n",
       "      <td>5670</td>\n",
       "      <td>4190</td>\n",
       "      <td>FC</td>\n",
       "      <td>좋은느낌 유기농순면 뉴 맥시슬림 오버나이트 12개입 (EA)</td>\n",
       "      <td>1480</td>\n",
       "      <td>1 days</td>\n",
       "      <td>2 days</td>\n",
       "      <td>생리대</td>\n",
       "      <td>생리대</td>\n",
       "    </tr>\n",
       "  </tbody>\n",
       "</table>\n",
       "<p>199999 rows × 15 columns</p>\n",
       "</div>"
      ],
      "text/plain": [
       "                              주문번호       배송완료일       배송시작일         구매일  구매시월령  \\\n",
       "0                  901011864201303  2021-01-05  2021-01-01  2020-12-31   35.0   \n",
       "1                  901011864430366  2021-01-03  2021-01-01  2020-12-31    9.0   \n",
       "2                   81231186197954  2021-01-05  2021-01-01  2020-12-31   22.0   \n",
       "3                  812311863500220  2021-01-03  2021-01-01  2020-12-31    8.0   \n",
       "4                  812311863220192  2021-01-03  2021-01-01  2020-12-31   23.0   \n",
       "...                            ...         ...         ...         ...    ...   \n",
       "199994  00806233401-26770461124511  2022-08-11  2022-08-08  2022-08-07   13.0   \n",
       "199995   00806204436-0461904922687  2022-08-11  2022-08-08  2022-08-07  163.0   \n",
       "199996   00806204436-0461904922688  2022-08-12  2022-08-08  2022-08-07  163.0   \n",
       "199997  00806215930-05281256126202  2022-08-10  2022-08-08  2022-08-07    5.0   \n",
       "199998  00806233401-26770461124510  2022-08-10  2022-08-08  2022-08-07   13.0   \n",
       "\n",
       "                   고객번호   구매금액   결제금액 물품대분류  \\\n",
       "0       201901010750089  74560  43825    팬티   \n",
       "1       201901010750143  74560  43825    팬티   \n",
       "2       201812310749820  53920  36769    팬티   \n",
       "3       201812310750007  52160  32408    팬티   \n",
       "4       201812310749977  47360  30066    팬티   \n",
       "...                 ...    ...    ...   ...   \n",
       "199994  201906180918504  21300  14910    FC   \n",
       "199995  201901280776735   7900   5840    FC   \n",
       "199996  201901280776735   7100   5240    FC   \n",
       "199997  201906200921415   7100   5240    FC   \n",
       "199998  201906180918504   5670   4190    FC   \n",
       "\n",
       "                                      상품명    포인트  배송준비시간    배송시간 물품중분류 물품소분류  \n",
       "0              하기스 매직핏팬티 5단계 남아 124매(팬티형)  30735  1 days  4 days   기저귀   팬티형  \n",
       "1              하기스 매직핏팬티 3단계 남아 184매(팬티형)  30735  1 days  2 days   기저귀   팬티형  \n",
       "2           하기스 네이처메이드 팬티 5단계 여아 80매(팬티형)  17151  1 days  4 days   기저귀   팬티형  \n",
       "3             하기스 보송보송팬티 4단계 공용 124매(팬티형)  19752  1 days  2 days   기저귀   팬티형  \n",
       "4            하기스 에어솔솔 팬티 5단계 남아용 80매(팬티형)  17294  1 days  2 days   기저귀   팬티형  \n",
       "...                                   ...    ...     ...     ...   ...   ...  \n",
       "199994    라네이처 시그니처 울트라슬림 날개 중형 12개입 (EA)   6390  1 days  3 days   생리대   생리대  \n",
       "199995     라네이처 시그니처 맥시슬림 날개 중형 12개입 (EA)   2060  1 days  3 days   생리대   생리대  \n",
       "199996    라네이처 시그니처 울트라슬림 날개 대형 10개입 (EA)   1860  1 days  4 days   생리대   생리대  \n",
       "199997    라네이처 시그니처 울트라슬림 날개 소형 14개입 (EA)   1860  1 days  2 days   생리대   생리대  \n",
       "199998  좋은느낌 유기농순면 뉴 맥시슬림 오버나이트 12개입 (EA)   1480  1 days  2 days   생리대   생리대  \n",
       "\n",
       "[199999 rows x 15 columns]"
      ]
     },
     "execution_count": 4,
     "metadata": {},
     "output_type": "execute_result"
    }
   ],
   "source": [
    "df_s"
   ]
  },
  {
   "cell_type": "code",
   "execution_count": 29,
   "id": "03910dbd",
   "metadata": {},
   "outputs": [
    {
     "name": "stdout",
     "output_type": "stream",
     "text": [
      "168142 31857\n"
     ]
    }
   ],
   "source": [
    "df_s_T = df_s['구매시월령'].notnull().sum()\n",
    "df_s_F = df_s['구매시월령'].isnull().sum()\n",
    "print(df_s_T,df_s_F)"
   ]
  },
  {
   "cell_type": "markdown",
   "id": "655038dc",
   "metadata": {},
   "source": [
    "- 3만개의 결측치 발견\n",
    "- '물품대분류'와 '상품명'이 같은 행의 구매시 월령을 다 찾아서 중간값으로 대체함\n",
    "- 결측치를 채웠지만 156개의 데이터가 채워지지 않았음 - (이유: 같은 상품명에 대한 정보가 없음)\n",
    "- 채워지지 않은 156개의 '구매시월령'에 대한 데이터는 모든 데이터의 중앙값으로 대체하여 결측치를 채웠음    "
   ]
  },
  {
   "cell_type": "code",
   "execution_count": 51,
   "id": "f4b77604",
   "metadata": {
    "scrolled": false
   },
   "outputs": [
    {
     "name": "stdout",
     "output_type": "stream",
     "text": [
      "898\n"
     ]
    }
   ],
   "source": [
    "print(len(df_s[df_s['구매시월령']>=240.0]))"
   ]
  },
  {
   "cell_type": "code",
   "execution_count": 47,
   "id": "87b989bb",
   "metadata": {},
   "outputs": [
    {
     "data": {
      "text/plain": [
       "0    3000\n",
       "Name: 구매금액, dtype: int64"
      ]
     },
     "execution_count": 47,
     "metadata": {},
     "output_type": "execute_result"
    }
   ],
   "source": [
    "df_s['구매금액'].mode()"
   ]
  },
  {
   "cell_type": "markdown",
   "id": "ffea6a28",
   "metadata": {},
   "source": [
    "- 유아용품판매점 이므로 구매시 월령이 7살을 넘아가는 약 5000개의 데이터를 '물품소분류'가 같은 데이터의 최빈값으로 대체했음\n",
    "- 따라서 데이터의 이상치 또한 제거"
   ]
  },
  {
   "cell_type": "code",
   "execution_count": 5,
   "id": "2d0f4a2b",
   "metadata": {},
   "outputs": [],
   "source": [
    "df_1 = df_s.loc[(df_s['구매시월령'] < 0.0)]\n",
    "df_2 = df_s.loc[(df_s['구매시월령'] >=0.0 ) & (df_s['구매시월령'] <= 0.9)]\n",
    "df_3 = df_s.loc[(df_s['구매시월령'] >=1.0 ) & (df_s['구매시월령'] <= 3.9)]\n",
    "df_4 = df_s.loc[(df_s['구매시월령'] >=4.0 ) & (df_s['구매시월령'] <= 11.9)]\n",
    "df_5 = df_s.loc[(df_s['구매시월령'] >=12 ) & (df_s['구매시월령'] <= 23.9)]\n",
    "df_6 = df_s.loc[(df_s['구매시월령'] >=24 )]"
   ]
  },
  {
   "cell_type": "code",
   "execution_count": 6,
   "id": "ebcb58c4",
   "metadata": {},
   "outputs": [
    {
     "name": "stdout",
     "output_type": "stream",
     "text": [
      "15567\n",
      "16849\n",
      "35053\n",
      "72203\n",
      "31710\n",
      "28617\n"
     ]
    }
   ],
   "source": [
    "print(len(df_1)) # 임신  \n",
    "print(len(df_2)) # 출산\n",
    "print(len(df_3)) # 신생아\n",
    "print(len(df_4)) # 돌전아기\n",
    "print(len(df_5)) # 영유아\n",
    "print(len(df_6)) # 키즈"
   ]
  },
  {
   "cell_type": "code",
   "execution_count": 64,
   "id": "b730dfb1",
   "metadata": {},
   "outputs": [],
   "source": [
    "import matplotlib\n",
    "matplotlib.rc('font',family = 'NanumGothic')\n",
    "matplotlib.rc('axes', unicode_minus = False)"
   ]
  },
  {
   "cell_type": "code",
   "execution_count": 7,
   "id": "e72233fa",
   "metadata": {},
   "outputs": [
    {
     "name": "stderr",
     "output_type": "stream",
     "text": [
      "/home/piai/anaconda3/lib/python3.9/site-packages/IPython/core/pylabtools.py:151: UserWarning: Glyph 51076 (\\N{HANGUL SYLLABLE IM}) missing from current font.\n",
      "  fig.canvas.print_figure(bytes_io, **kw)\n",
      "/home/piai/anaconda3/lib/python3.9/site-packages/IPython/core/pylabtools.py:151: UserWarning: Glyph 49888 (\\N{HANGUL SYLLABLE SIN}) missing from current font.\n",
      "  fig.canvas.print_figure(bytes_io, **kw)\n",
      "/home/piai/anaconda3/lib/python3.9/site-packages/IPython/core/pylabtools.py:151: UserWarning: Glyph 49328 (\\N{HANGUL SYLLABLE SAN}) missing from current font.\n",
      "  fig.canvas.print_figure(bytes_io, **kw)\n",
      "/home/piai/anaconda3/lib/python3.9/site-packages/IPython/core/pylabtools.py:151: UserWarning: Glyph 51204 (\\N{HANGUL SYLLABLE JEON}) missing from current font.\n",
      "  fig.canvas.print_figure(bytes_io, **kw)\n",
      "/home/piai/anaconda3/lib/python3.9/site-packages/IPython/core/pylabtools.py:151: UserWarning: Glyph 52636 (\\N{HANGUL SYLLABLE CUL}) missing from current font.\n",
      "  fig.canvas.print_figure(bytes_io, **kw)\n",
      "/home/piai/anaconda3/lib/python3.9/site-packages/IPython/core/pylabtools.py:151: UserWarning: Glyph 54980 (\\N{HANGUL SYLLABLE HU}) missing from current font.\n",
      "  fig.canvas.print_figure(bytes_io, **kw)\n",
      "/home/piai/anaconda3/lib/python3.9/site-packages/IPython/core/pylabtools.py:151: UserWarning: Glyph 49373 (\\N{HANGUL SYLLABLE SAENG}) missing from current font.\n",
      "  fig.canvas.print_figure(bytes_io, **kw)\n",
      "/home/piai/anaconda3/lib/python3.9/site-packages/IPython/core/pylabtools.py:151: UserWarning: Glyph 50500 (\\N{HANGUL SYLLABLE A}) missing from current font.\n",
      "  fig.canvas.print_figure(bytes_io, **kw)\n",
      "/home/piai/anaconda3/lib/python3.9/site-packages/IPython/core/pylabtools.py:151: UserWarning: Glyph 46028 (\\N{HANGUL SYLLABLE DOL}) missing from current font.\n",
      "  fig.canvas.print_figure(bytes_io, **kw)\n",
      "/home/piai/anaconda3/lib/python3.9/site-packages/IPython/core/pylabtools.py:151: UserWarning: Glyph 44592 (\\N{HANGUL SYLLABLE GI}) missing from current font.\n",
      "  fig.canvas.print_figure(bytes_io, **kw)\n",
      "/home/piai/anaconda3/lib/python3.9/site-packages/IPython/core/pylabtools.py:151: UserWarning: Glyph 50689 (\\N{HANGUL SYLLABLE YEONG}) missing from current font.\n",
      "  fig.canvas.print_figure(bytes_io, **kw)\n",
      "/home/piai/anaconda3/lib/python3.9/site-packages/IPython/core/pylabtools.py:151: UserWarning: Glyph 50976 (\\N{HANGUL SYLLABLE YU}) missing from current font.\n",
      "  fig.canvas.print_figure(bytes_io, **kw)\n",
      "/home/piai/anaconda3/lib/python3.9/site-packages/IPython/core/pylabtools.py:151: UserWarning: Glyph 53412 (\\N{HANGUL SYLLABLE KI}) missing from current font.\n",
      "  fig.canvas.print_figure(bytes_io, **kw)\n",
      "/home/piai/anaconda3/lib/python3.9/site-packages/IPython/core/pylabtools.py:151: UserWarning: Glyph 51592 (\\N{HANGUL SYLLABLE JEU}) missing from current font.\n",
      "  fig.canvas.print_figure(bytes_io, **kw)\n",
      "/home/piai/anaconda3/lib/python3.9/site-packages/IPython/core/pylabtools.py:151: UserWarning: Glyph 51060 (\\N{HANGUL SYLLABLE I}) missing from current font.\n",
      "  fig.canvas.print_figure(bytes_io, **kw)\n",
      "/home/piai/anaconda3/lib/python3.9/site-packages/IPython/core/pylabtools.py:151: UserWarning: Glyph 49345 (\\N{HANGUL SYLLABLE SANG}) missing from current font.\n",
      "  fig.canvas.print_figure(bytes_io, **kw)\n",
      "/home/piai/anaconda3/lib/python3.9/site-packages/IPython/core/pylabtools.py:151: UserWarning: Glyph 54616 (\\N{HANGUL SYLLABLE HA}) missing from current font.\n",
      "  fig.canvas.print_figure(bytes_io, **kw)\n"
     ]
    },
    {
     "data": {
      "image/png": "[encoded data removed]",
      "text/plain": [
       "<Figure size 640x480 with 1 Axes>"
      ]
     },
     "metadata": {},
     "output_type": "display_data"
    }
   ],
   "source": [
    "colors = ['dimgrey','darkgray','darkgray','darkgray','darkgray','darkgray','darkgray','darkgray','darkgray']\n",
    "df = pd.DataFrame({'lab':['임신(산전)', '출산(산후)', '신생아','돌전아기','영유아','키즈'], 'val':[15567,16849,35053,71537,31710,29283]})\n",
    "ax = df.plot.bar(x='lab',xlabel='이상_이하', y='val', rot=0,color=colors,width=0.3)"
   ]
  },
  {
   "cell_type": "markdown",
   "id": "a5c18745",
   "metadata": {},
   "source": [
    "- 임신(산전) 15567명\n",
    "- 출산(산후) 0개월~1개월미만 16849명\n",
    "- 신생아 1개월~3개월미만  35053명\n",
    "- 돌전아기 3개월~12개월미만 71537명\n",
    "- 영유아 12개월~24개월미만 31710명\n",
    "- 키즈 24개월이상 29283명"
   ]
  },
  {
   "cell_type": "code",
   "execution_count": null,
   "id": "a29e26eb",
   "metadata": {},
   "outputs": [],
   "source": []
  }
 ],
 "metadata": {
  "kernelspec": {
   "display_name": "Python 3 (ipykernel)",
   "language": "python",
   "name": "python3"
  },
  "language_info": {
   "codemirror_mode": {
    "name": "ipython",
    "version": 3
   },
   "file_extension": ".py",
   "mimetype": "text/x-python",
   "name": "python",
   "nbconvert_exporter": "python",
   "pygments_lexer": "ipython3",
   "version": "3.9.13"
  }
 },
 "nbformat": 4,
 "nbformat_minor": 5
}
