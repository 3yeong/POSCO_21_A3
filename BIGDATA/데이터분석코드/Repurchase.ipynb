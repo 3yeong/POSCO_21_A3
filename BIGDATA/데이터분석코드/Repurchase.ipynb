{
 "cells": [
  {
   "cell_type": "code",
   "execution_count": 13,
   "id": "b6346518",
   "metadata": {},
   "outputs": [],
   "source": [
    "import pandas as pd"
   ]
  },
  {
   "cell_type": "code",
   "execution_count": 14,
   "id": "52aa5fad",
   "metadata": {
    "scrolled": false
   },
   "outputs": [
    {
     "name": "stderr",
     "output_type": "stream",
     "text": [
      "/tmp/ipykernel_28549/922523283.py:1: DtypeWarning: Columns (0,5) have mixed types. Specify dtype option on import or set low_memory=False.\n",
      "  df_s = pd.read_csv('./Sales_data_RMF.csv')\n"
     ]
    }
   ],
   "source": [
    "df_s = pd.read_csv('./Sales_data_RMF.csv')"
   ]
  },
  {
   "cell_type": "code",
   "execution_count": 15,
   "id": "fe5a4048",
   "metadata": {},
   "outputs": [
    {
     "data": {
      "text/html": [
       "<div>\n",
       "<style scoped>\n",
       "    .dataframe tbody tr th:only-of-type {\n",
       "        vertical-align: middle;\n",
       "    }\n",
       "\n",
       "    .dataframe tbody tr th {\n",
       "        vertical-align: top;\n",
       "    }\n",
       "\n",
       "    .dataframe thead th {\n",
       "        text-align: right;\n",
       "    }\n",
       "</style>\n",
       "<table border=\"1\" class=\"dataframe\">\n",
       "  <thead>\n",
       "    <tr style=\"text-align: right;\">\n",
       "      <th></th>\n",
       "      <th>주문번호</th>\n",
       "      <th>배송완료일</th>\n",
       "      <th>배송시작일</th>\n",
       "      <th>구매일</th>\n",
       "      <th>구매시월령</th>\n",
       "      <th>고객번호</th>\n",
       "      <th>구매금액</th>\n",
       "      <th>결제금액</th>\n",
       "      <th>물품대분류</th>\n",
       "      <th>상품명</th>\n",
       "      <th>포인트</th>\n",
       "      <th>배송준비시간</th>\n",
       "      <th>배송시간</th>\n",
       "      <th>물품중분류</th>\n",
       "      <th>물품소분류</th>\n",
       "    </tr>\n",
       "  </thead>\n",
       "  <tbody>\n",
       "    <tr>\n",
       "      <th>0</th>\n",
       "      <td>901011864201303</td>\n",
       "      <td>2021-01-05</td>\n",
       "      <td>2021-01-01</td>\n",
       "      <td>2020-12-31</td>\n",
       "      <td>35</td>\n",
       "      <td>201901010750089</td>\n",
       "      <td>74560</td>\n",
       "      <td>43825</td>\n",
       "      <td>팬티</td>\n",
       "      <td>하기스 매직핏팬티 5단계 남아 124매(팬티형)</td>\n",
       "      <td>30735</td>\n",
       "      <td>1 days</td>\n",
       "      <td>4 days</td>\n",
       "      <td>기저귀</td>\n",
       "      <td>팬티형</td>\n",
       "    </tr>\n",
       "    <tr>\n",
       "      <th>1</th>\n",
       "      <td>901011864430366</td>\n",
       "      <td>2021-01-03</td>\n",
       "      <td>2021-01-01</td>\n",
       "      <td>2020-12-31</td>\n",
       "      <td>9</td>\n",
       "      <td>201901010750143</td>\n",
       "      <td>74560</td>\n",
       "      <td>43825</td>\n",
       "      <td>팬티</td>\n",
       "      <td>하기스 매직핏팬티 3단계 남아 184매(팬티형)</td>\n",
       "      <td>30735</td>\n",
       "      <td>1 days</td>\n",
       "      <td>2 days</td>\n",
       "      <td>기저귀</td>\n",
       "      <td>팬티형</td>\n",
       "    </tr>\n",
       "    <tr>\n",
       "      <th>2</th>\n",
       "      <td>81231186197954</td>\n",
       "      <td>2021-01-05</td>\n",
       "      <td>2021-01-01</td>\n",
       "      <td>2020-12-31</td>\n",
       "      <td>22</td>\n",
       "      <td>201812310749820</td>\n",
       "      <td>53920</td>\n",
       "      <td>36769</td>\n",
       "      <td>팬티</td>\n",
       "      <td>하기스 네이처메이드 팬티 5단계 여아 80매(팬티형)</td>\n",
       "      <td>17151</td>\n",
       "      <td>1 days</td>\n",
       "      <td>4 days</td>\n",
       "      <td>기저귀</td>\n",
       "      <td>팬티형</td>\n",
       "    </tr>\n",
       "    <tr>\n",
       "      <th>3</th>\n",
       "      <td>812311863500220</td>\n",
       "      <td>2021-01-03</td>\n",
       "      <td>2021-01-01</td>\n",
       "      <td>2020-12-31</td>\n",
       "      <td>8</td>\n",
       "      <td>201812310750007</td>\n",
       "      <td>52160</td>\n",
       "      <td>32408</td>\n",
       "      <td>팬티</td>\n",
       "      <td>하기스 보송보송팬티 4단계 공용 124매(팬티형)</td>\n",
       "      <td>19752</td>\n",
       "      <td>1 days</td>\n",
       "      <td>2 days</td>\n",
       "      <td>기저귀</td>\n",
       "      <td>팬티형</td>\n",
       "    </tr>\n",
       "    <tr>\n",
       "      <th>4</th>\n",
       "      <td>812311863220192</td>\n",
       "      <td>2021-01-03</td>\n",
       "      <td>2021-01-01</td>\n",
       "      <td>2020-12-31</td>\n",
       "      <td>23</td>\n",
       "      <td>201812310749977</td>\n",
       "      <td>47360</td>\n",
       "      <td>30066</td>\n",
       "      <td>팬티</td>\n",
       "      <td>하기스 에어솔솔 팬티 5단계 남아용 80매(팬티형)</td>\n",
       "      <td>17294</td>\n",
       "      <td>1 days</td>\n",
       "      <td>2 days</td>\n",
       "      <td>기저귀</td>\n",
       "      <td>팬티형</td>\n",
       "    </tr>\n",
       "    <tr>\n",
       "      <th>...</th>\n",
       "      <td>...</td>\n",
       "      <td>...</td>\n",
       "      <td>...</td>\n",
       "      <td>...</td>\n",
       "      <td>...</td>\n",
       "      <td>...</td>\n",
       "      <td>...</td>\n",
       "      <td>...</td>\n",
       "      <td>...</td>\n",
       "      <td>...</td>\n",
       "      <td>...</td>\n",
       "      <td>...</td>\n",
       "      <td>...</td>\n",
       "      <td>...</td>\n",
       "      <td>...</td>\n",
       "    </tr>\n",
       "    <tr>\n",
       "      <th>199994</th>\n",
       "      <td>00806233401-26770461124511</td>\n",
       "      <td>2022-08-11</td>\n",
       "      <td>2022-08-08</td>\n",
       "      <td>2022-08-07</td>\n",
       "      <td>13</td>\n",
       "      <td>201906180918504</td>\n",
       "      <td>21300</td>\n",
       "      <td>14910</td>\n",
       "      <td>FC</td>\n",
       "      <td>라네이처 시그니처 울트라슬림 날개 중형 12개입 (EA)</td>\n",
       "      <td>6390</td>\n",
       "      <td>1 days</td>\n",
       "      <td>3 days</td>\n",
       "      <td>생리대</td>\n",
       "      <td>생리대</td>\n",
       "    </tr>\n",
       "    <tr>\n",
       "      <th>199995</th>\n",
       "      <td>00806204436-0461904922687</td>\n",
       "      <td>2022-08-11</td>\n",
       "      <td>2022-08-08</td>\n",
       "      <td>2022-08-07</td>\n",
       "      <td>163</td>\n",
       "      <td>201901280776735</td>\n",
       "      <td>7900</td>\n",
       "      <td>5840</td>\n",
       "      <td>FC</td>\n",
       "      <td>라네이처 시그니처 맥시슬림 날개 중형 12개입 (EA)</td>\n",
       "      <td>2060</td>\n",
       "      <td>1 days</td>\n",
       "      <td>3 days</td>\n",
       "      <td>생리대</td>\n",
       "      <td>생리대</td>\n",
       "    </tr>\n",
       "    <tr>\n",
       "      <th>199996</th>\n",
       "      <td>00806204436-0461904922688</td>\n",
       "      <td>2022-08-12</td>\n",
       "      <td>2022-08-08</td>\n",
       "      <td>2022-08-07</td>\n",
       "      <td>163</td>\n",
       "      <td>201901280776735</td>\n",
       "      <td>7100</td>\n",
       "      <td>5240</td>\n",
       "      <td>FC</td>\n",
       "      <td>라네이처 시그니처 울트라슬림 날개 대형 10개입 (EA)</td>\n",
       "      <td>1860</td>\n",
       "      <td>1 days</td>\n",
       "      <td>4 days</td>\n",
       "      <td>생리대</td>\n",
       "      <td>생리대</td>\n",
       "    </tr>\n",
       "    <tr>\n",
       "      <th>199997</th>\n",
       "      <td>00806215930-05281256126202</td>\n",
       "      <td>2022-08-10</td>\n",
       "      <td>2022-08-08</td>\n",
       "      <td>2022-08-07</td>\n",
       "      <td>5</td>\n",
       "      <td>201906200921415</td>\n",
       "      <td>7100</td>\n",
       "      <td>5240</td>\n",
       "      <td>FC</td>\n",
       "      <td>라네이처 시그니처 울트라슬림 날개 소형 14개입 (EA)</td>\n",
       "      <td>1860</td>\n",
       "      <td>1 days</td>\n",
       "      <td>2 days</td>\n",
       "      <td>생리대</td>\n",
       "      <td>생리대</td>\n",
       "    </tr>\n",
       "    <tr>\n",
       "      <th>199998</th>\n",
       "      <td>00806233401-26770461124510</td>\n",
       "      <td>2022-08-10</td>\n",
       "      <td>2022-08-08</td>\n",
       "      <td>2022-08-07</td>\n",
       "      <td>13</td>\n",
       "      <td>201906180918504</td>\n",
       "      <td>5670</td>\n",
       "      <td>4190</td>\n",
       "      <td>FC</td>\n",
       "      <td>좋은느낌 유기농순면 뉴 맥시슬림 오버나이트 12개입 (EA)</td>\n",
       "      <td>1480</td>\n",
       "      <td>1 days</td>\n",
       "      <td>2 days</td>\n",
       "      <td>생리대</td>\n",
       "      <td>생리대</td>\n",
       "    </tr>\n",
       "  </tbody>\n",
       "</table>\n",
       "<p>199999 rows × 15 columns</p>\n",
       "</div>"
      ],
      "text/plain": [
       "                              주문번호       배송완료일       배송시작일         구매일  구매시월령  \\\n",
       "0                  901011864201303  2021-01-05  2021-01-01  2020-12-31     35   \n",
       "1                  901011864430366  2021-01-03  2021-01-01  2020-12-31      9   \n",
       "2                   81231186197954  2021-01-05  2021-01-01  2020-12-31     22   \n",
       "3                  812311863500220  2021-01-03  2021-01-01  2020-12-31      8   \n",
       "4                  812311863220192  2021-01-03  2021-01-01  2020-12-31     23   \n",
       "...                            ...         ...         ...         ...    ...   \n",
       "199994  00806233401-26770461124511  2022-08-11  2022-08-08  2022-08-07     13   \n",
       "199995   00806204436-0461904922687  2022-08-11  2022-08-08  2022-08-07    163   \n",
       "199996   00806204436-0461904922688  2022-08-12  2022-08-08  2022-08-07    163   \n",
       "199997  00806215930-05281256126202  2022-08-10  2022-08-08  2022-08-07      5   \n",
       "199998  00806233401-26770461124510  2022-08-10  2022-08-08  2022-08-07     13   \n",
       "\n",
       "                   고객번호   구매금액   결제금액 물품대분류  \\\n",
       "0       201901010750089  74560  43825    팬티   \n",
       "1       201901010750143  74560  43825    팬티   \n",
       "2       201812310749820  53920  36769    팬티   \n",
       "3       201812310750007  52160  32408    팬티   \n",
       "4       201812310749977  47360  30066    팬티   \n",
       "...                 ...    ...    ...   ...   \n",
       "199994  201906180918504  21300  14910    FC   \n",
       "199995  201901280776735   7900   5840    FC   \n",
       "199996  201901280776735   7100   5240    FC   \n",
       "199997  201906200921415   7100   5240    FC   \n",
       "199998  201906180918504   5670   4190    FC   \n",
       "\n",
       "                                      상품명    포인트  배송준비시간    배송시간 물품중분류 물품소분류  \n",
       "0              하기스 매직핏팬티 5단계 남아 124매(팬티형)  30735  1 days  4 days   기저귀   팬티형  \n",
       "1              하기스 매직핏팬티 3단계 남아 184매(팬티형)  30735  1 days  2 days   기저귀   팬티형  \n",
       "2           하기스 네이처메이드 팬티 5단계 여아 80매(팬티형)  17151  1 days  4 days   기저귀   팬티형  \n",
       "3             하기스 보송보송팬티 4단계 공용 124매(팬티형)  19752  1 days  2 days   기저귀   팬티형  \n",
       "4            하기스 에어솔솔 팬티 5단계 남아용 80매(팬티형)  17294  1 days  2 days   기저귀   팬티형  \n",
       "...                                   ...    ...     ...     ...   ...   ...  \n",
       "199994    라네이처 시그니처 울트라슬림 날개 중형 12개입 (EA)   6390  1 days  3 days   생리대   생리대  \n",
       "199995     라네이처 시그니처 맥시슬림 날개 중형 12개입 (EA)   2060  1 days  3 days   생리대   생리대  \n",
       "199996    라네이처 시그니처 울트라슬림 날개 대형 10개입 (EA)   1860  1 days  4 days   생리대   생리대  \n",
       "199997    라네이처 시그니처 울트라슬림 날개 소형 14개입 (EA)   1860  1 days  2 days   생리대   생리대  \n",
       "199998  좋은느낌 유기농순면 뉴 맥시슬림 오버나이트 12개입 (EA)   1480  1 days  2 days   생리대   생리대  \n",
       "\n",
       "[199999 rows x 15 columns]"
      ]
     },
     "execution_count": 15,
     "metadata": {},
     "output_type": "execute_result"
    }
   ],
   "source": [
    "df_s"
   ]
  },
  {
   "cell_type": "code",
   "execution_count": 16,
   "id": "abcee5ec",
   "metadata": {},
   "outputs": [
    {
     "ename": "IndexError",
     "evalue": "Column(s) 배송시간 already selected",
     "output_type": "error",
     "traceback": [
      "\u001b[0;31m---------------------------------------------------------------------------\u001b[0m",
      "\u001b[0;31mIndexError\u001b[0m                                Traceback (most recent call last)",
      "\u001b[0;32m/tmp/ipykernel_28549/373821760.py\u001b[0m in \u001b[0;36m<module>\u001b[0;34m\u001b[0m\n\u001b[0;32m----> 1\u001b[0;31m \u001b[0mdup_cnt\u001b[0m \u001b[0;34m=\u001b[0m \u001b[0mdf_s\u001b[0m\u001b[0;34m.\u001b[0m\u001b[0mgroupby\u001b[0m\u001b[0;34m(\u001b[0m\u001b[0;34m'고객번호'\u001b[0m\u001b[0;34m)\u001b[0m\u001b[0;34m[\u001b[0m\u001b[0;34m'배송시간'\u001b[0m\u001b[0;34m]\u001b[0m\u001b[0;34m[\u001b[0m\u001b[0;34m'구매일'\u001b[0m\u001b[0;34m]\u001b[0m\u001b[0;34m.\u001b[0m\u001b[0mnunique\u001b[0m\u001b[0;34m(\u001b[0m\u001b[0;34m)\u001b[0m\u001b[0;34m\u001b[0m\u001b[0;34m\u001b[0m\u001b[0m\n\u001b[0m\u001b[1;32m      2\u001b[0m \u001b[0;34m\u001b[0m\u001b[0m\n\u001b[1;32m      3\u001b[0m \u001b[0;31m# 새로운 데이터프레임 생성\u001b[0m\u001b[0;34m\u001b[0m\u001b[0;34m\u001b[0m\u001b[0m\n\u001b[1;32m      4\u001b[0m new_df = pd.DataFrame({\n\u001b[1;32m      5\u001b[0m     \u001b[0;34m'고객번호'\u001b[0m\u001b[0;34m:\u001b[0m \u001b[0mdup_cnt\u001b[0m\u001b[0;34m.\u001b[0m\u001b[0mindex\u001b[0m\u001b[0;34m,\u001b[0m\u001b[0;34m\u001b[0m\u001b[0;34m\u001b[0m\u001b[0m\n",
      "\u001b[0;32m~/anaconda3/lib/python3.9/site-packages/pandas/core/base.py\u001b[0m in \u001b[0;36m__getitem__\u001b[0;34m(self, key)\u001b[0m\n\u001b[1;32m    233\u001b[0m     \u001b[0;32mdef\u001b[0m \u001b[0m__getitem__\u001b[0m\u001b[0;34m(\u001b[0m\u001b[0mself\u001b[0m\u001b[0;34m,\u001b[0m \u001b[0mkey\u001b[0m\u001b[0;34m)\u001b[0m\u001b[0;34m:\u001b[0m\u001b[0;34m\u001b[0m\u001b[0;34m\u001b[0m\u001b[0m\n\u001b[1;32m    234\u001b[0m         \u001b[0;32mif\u001b[0m \u001b[0mself\u001b[0m\u001b[0;34m.\u001b[0m\u001b[0m_selection\u001b[0m \u001b[0;32mis\u001b[0m \u001b[0;32mnot\u001b[0m \u001b[0;32mNone\u001b[0m\u001b[0;34m:\u001b[0m\u001b[0;34m\u001b[0m\u001b[0;34m\u001b[0m\u001b[0m\n\u001b[0;32m--> 235\u001b[0;31m             \u001b[0;32mraise\u001b[0m \u001b[0mIndexError\u001b[0m\u001b[0;34m(\u001b[0m\u001b[0;34mf\"Column(s) {self._selection} already selected\"\u001b[0m\u001b[0;34m)\u001b[0m\u001b[0;34m\u001b[0m\u001b[0;34m\u001b[0m\u001b[0m\n\u001b[0m\u001b[1;32m    236\u001b[0m \u001b[0;34m\u001b[0m\u001b[0m\n\u001b[1;32m    237\u001b[0m         \u001b[0;32mif\u001b[0m \u001b[0misinstance\u001b[0m\u001b[0;34m(\u001b[0m\u001b[0mkey\u001b[0m\u001b[0;34m,\u001b[0m \u001b[0;34m(\u001b[0m\u001b[0mlist\u001b[0m\u001b[0;34m,\u001b[0m \u001b[0mtuple\u001b[0m\u001b[0;34m,\u001b[0m \u001b[0mABCSeries\u001b[0m\u001b[0;34m,\u001b[0m \u001b[0mABCIndex\u001b[0m\u001b[0;34m,\u001b[0m \u001b[0mnp\u001b[0m\u001b[0;34m.\u001b[0m\u001b[0mndarray\u001b[0m\u001b[0;34m)\u001b[0m\u001b[0;34m)\u001b[0m\u001b[0;34m:\u001b[0m\u001b[0;34m\u001b[0m\u001b[0;34m\u001b[0m\u001b[0m\n",
      "\u001b[0;31mIndexError\u001b[0m: Column(s) 배송시간 already selected"
     ]
    }
   ],
   "source": [
    "dup_cnt = df_s.groupby('고객번호')['구매일'].nunique()\n",
    "\n",
    "# 새로운 데이터프레임 생성\n",
    "new_df = pd.DataFrame({\n",
    "    '고객번호': dup_cnt.index,\n",
    "    '구매횟수': dup_cnt.values\n",
    "})"
   ]
  },
  {
   "cell_type": "code",
   "execution_count": 5,
   "id": "d16653d9",
   "metadata": {
    "scrolled": true
   },
   "outputs": [
    {
     "data": {
      "text/html": [
       "<div>\n",
       "<style scoped>\n",
       "    .dataframe tbody tr th:only-of-type {\n",
       "        vertical-align: middle;\n",
       "    }\n",
       "\n",
       "    .dataframe tbody tr th {\n",
       "        vertical-align: top;\n",
       "    }\n",
       "\n",
       "    .dataframe thead th {\n",
       "        text-align: right;\n",
       "    }\n",
       "</style>\n",
       "<table border=\"1\" class=\"dataframe\">\n",
       "  <thead>\n",
       "    <tr style=\"text-align: right;\">\n",
       "      <th></th>\n",
       "      <th>고객번호</th>\n",
       "      <th>구매횟수</th>\n",
       "    </tr>\n",
       "  </thead>\n",
       "  <tbody>\n",
       "    <tr>\n",
       "      <th>0</th>\n",
       "      <td>201812310749735</td>\n",
       "      <td>1</td>\n",
       "    </tr>\n",
       "    <tr>\n",
       "      <th>1</th>\n",
       "      <td>201812310749770</td>\n",
       "      <td>1</td>\n",
       "    </tr>\n",
       "    <tr>\n",
       "      <th>2</th>\n",
       "      <td>201812310749771</td>\n",
       "      <td>1</td>\n",
       "    </tr>\n",
       "    <tr>\n",
       "      <th>3</th>\n",
       "      <td>201812310749774</td>\n",
       "      <td>2</td>\n",
       "    </tr>\n",
       "    <tr>\n",
       "      <th>4</th>\n",
       "      <td>201812310749780</td>\n",
       "      <td>1</td>\n",
       "    </tr>\n",
       "    <tr>\n",
       "      <th>...</th>\n",
       "      <td>...</td>\n",
       "      <td>...</td>\n",
       "    </tr>\n",
       "    <tr>\n",
       "      <th>97742</th>\n",
       "      <td>20200724113017315991</td>\n",
       "      <td>1</td>\n",
       "    </tr>\n",
       "    <tr>\n",
       "      <th>97743</th>\n",
       "      <td>20200729134409126553</td>\n",
       "      <td>1</td>\n",
       "    </tr>\n",
       "    <tr>\n",
       "      <th>97744</th>\n",
       "      <td>20200803075905757887</td>\n",
       "      <td>1</td>\n",
       "    </tr>\n",
       "    <tr>\n",
       "      <th>97745</th>\n",
       "      <td>20200805170229147688</td>\n",
       "      <td>1</td>\n",
       "    </tr>\n",
       "    <tr>\n",
       "      <th>97746</th>\n",
       "      <td>20200805223526494551</td>\n",
       "      <td>1</td>\n",
       "    </tr>\n",
       "  </tbody>\n",
       "</table>\n",
       "<p>97747 rows × 2 columns</p>\n",
       "</div>"
      ],
      "text/plain": [
       "                       고객번호  구매횟수\n",
       "0           201812310749735     1\n",
       "1           201812310749770     1\n",
       "2           201812310749771     1\n",
       "3           201812310749774     2\n",
       "4           201812310749780     1\n",
       "...                     ...   ...\n",
       "97742  20200724113017315991     1\n",
       "97743  20200729134409126553     1\n",
       "97744  20200803075905757887     1\n",
       "97745  20200805170229147688     1\n",
       "97746  20200805223526494551     1\n",
       "\n",
       "[97747 rows x 2 columns]"
      ]
     },
     "execution_count": 5,
     "metadata": {},
     "output_type": "execute_result"
    }
   ],
   "source": [
    "new_df"
   ]
  },
  {
   "cell_type": "code",
   "execution_count": 6,
   "id": "8db30056",
   "metadata": {
    "scrolled": true
   },
   "outputs": [
    {
     "data": {
      "image/png": "[encoded data removed]",
      "text/plain": [
       "<Figure size 640x480 with 1 Axes>"
      ]
     },
     "metadata": {},
     "output_type": "display_data"
    }
   ],
   "source": [
    "import matplotlib\n",
    "import matplotlib.pyplot as plt\n",
    "import seaborn as sns\n",
    "\n",
    "df = new_df['구매횟수'].value_counts()\n",
    "df.plot.bar()\n",
    "plt.show()"
   ]
  },
  {
   "cell_type": "code",
   "execution_count": 7,
   "id": "895bb503",
   "metadata": {
    "scrolled": true
   },
   "outputs": [
    {
     "data": {
      "text/plain": [
       "1     63516\n",
       "2     16602\n",
       "3      7717\n",
       "4      4039\n",
       "5      2304\n",
       "6      1304\n",
       "7       746\n",
       "8       458\n",
       "9       291\n",
       "10      150\n",
       "11      145\n",
       "12       82\n",
       "13       72\n",
       "14       66\n",
       "15       45\n",
       "17       33\n",
       "16       27\n",
       "20       18\n",
       "18       16\n",
       "21       14\n",
       "19       12\n",
       "24        9\n",
       "25        9\n",
       "22        7\n",
       "29        7\n",
       "31        6\n",
       "34        6\n",
       "32        6\n",
       "23        6\n",
       "28        5\n",
       "39        5\n",
       "27        4\n",
       "33        4\n",
       "37        4\n",
       "30        3\n",
       "38        2\n",
       "26        2\n",
       "41        2\n",
       "35        2\n",
       "36        1\n",
       "Name: 구매횟수, dtype: int64"
      ]
     },
     "execution_count": 7,
     "metadata": {},
     "output_type": "execute_result"
    }
   ],
   "source": [
    "new_df['구매횟수'].value_counts()"
   ]
  },
  {
   "cell_type": "code",
   "execution_count": 8,
   "id": "08463709",
   "metadata": {},
   "outputs": [
    {
     "data": {
      "image/png": "[encoded data removed]",
      "text/plain": [
       "<Figure size 640x480 with 1 Axes>"
      ]
     },
     "metadata": {},
     "output_type": "display_data"
    }
   ],
   "source": [
    "import numpy as np\n",
    "matplotlib.rc('font',family = 'NanumGothic')\n",
    "matplotlib.rc('axes', unicode_minus = False)\n",
    "\n",
    "new_df['구매횟수구분'] = pd.cut(new_df['구매횟수'], bins=[0,1,2,3,4,np.inf], labels=['1회','2회','3회','4회','5회 이상'])\n",
    "customer_counts = new_df['구매횟수구분'].value_counts(sort=False)\n",
    "\n",
    "plt.pie(customer_counts, labels=customer_counts.index, autopct='%1.1f%%')\n",
    "plt.axis('equal')\n",
    "plt.show()"
   ]
  },
  {
   "cell_type": "markdown",
   "id": "48552d67",
   "metadata": {},
   "source": [
    "new_df\n",
    "Member_data.csv\n"
   ]
  },
  {
   "cell_type": "code",
   "execution_count": 10,
   "id": "8a737014",
   "metadata": {},
   "outputs": [
    {
     "name": "stderr",
     "output_type": "stream",
     "text": [
      "/tmp/ipykernel_24924/3096139362.py:1: DtypeWarning: Columns (0) have mixed types. Specify dtype option on import or set low_memory=False.\n",
      "  df_m = pd.read_csv('./Member_data.csv')\n"
     ]
    },
    {
     "data": {
      "text/html": [
       "<div>\n",
       "<style scoped>\n",
       "    .dataframe tbody tr th:only-of-type {\n",
       "        vertical-align: middle;\n",
       "    }\n",
       "\n",
       "    .dataframe tbody tr th {\n",
       "        vertical-align: top;\n",
       "    }\n",
       "\n",
       "    .dataframe thead th {\n",
       "        text-align: right;\n",
       "    }\n",
       "</style>\n",
       "<table border=\"1\" class=\"dataframe\">\n",
       "  <thead>\n",
       "    <tr style=\"text-align: right;\">\n",
       "      <th></th>\n",
       "      <th>고객번호</th>\n",
       "      <th>성별</th>\n",
       "      <th>결혼유무</th>\n",
       "      <th>거주지역</th>\n",
       "      <th>연령</th>\n",
       "      <th>결제등록카드</th>\n",
       "      <th>유입경로</th>\n",
       "      <th>자녀여부</th>\n",
       "    </tr>\n",
       "  </thead>\n",
       "  <tbody>\n",
       "    <tr>\n",
       "      <th>0</th>\n",
       "      <td>201812310749735</td>\n",
       "      <td>여</td>\n",
       "      <td>기혼</td>\n",
       "      <td>인천</td>\n",
       "      <td>37.0</td>\n",
       "      <td>국민은행</td>\n",
       "      <td>인스타그램</td>\n",
       "      <td>Yes</td>\n",
       "    </tr>\n",
       "    <tr>\n",
       "      <th>1</th>\n",
       "      <td>201812310749770</td>\n",
       "      <td>여</td>\n",
       "      <td>기혼</td>\n",
       "      <td>제주</td>\n",
       "      <td>33.0</td>\n",
       "      <td>국민은행</td>\n",
       "      <td>검색광고</td>\n",
       "      <td>Yes</td>\n",
       "    </tr>\n",
       "    <tr>\n",
       "      <th>2</th>\n",
       "      <td>201812310749771</td>\n",
       "      <td>여</td>\n",
       "      <td>기혼</td>\n",
       "      <td>부산</td>\n",
       "      <td>32.0</td>\n",
       "      <td>하나은행</td>\n",
       "      <td>네이버블로그</td>\n",
       "      <td>Yes</td>\n",
       "    </tr>\n",
       "    <tr>\n",
       "      <th>3</th>\n",
       "      <td>201812310749774</td>\n",
       "      <td>여</td>\n",
       "      <td>미혼</td>\n",
       "      <td>경남</td>\n",
       "      <td>34.0</td>\n",
       "      <td>기업은행</td>\n",
       "      <td>지인추천</td>\n",
       "      <td>No</td>\n",
       "    </tr>\n",
       "    <tr>\n",
       "      <th>4</th>\n",
       "      <td>201812310749780</td>\n",
       "      <td>여</td>\n",
       "      <td>기혼</td>\n",
       "      <td>서울</td>\n",
       "      <td>32.0</td>\n",
       "      <td>신한은행</td>\n",
       "      <td>직접검색</td>\n",
       "      <td>Yes</td>\n",
       "    </tr>\n",
       "    <tr>\n",
       "      <th>...</th>\n",
       "      <td>...</td>\n",
       "      <td>...</td>\n",
       "      <td>...</td>\n",
       "      <td>...</td>\n",
       "      <td>...</td>\n",
       "      <td>...</td>\n",
       "      <td>...</td>\n",
       "      <td>...</td>\n",
       "    </tr>\n",
       "    <tr>\n",
       "      <th>81355</th>\n",
       "      <td>20200724113017315991</td>\n",
       "      <td>NaN</td>\n",
       "      <td>NaN</td>\n",
       "      <td>NaN</td>\n",
       "      <td>NaN</td>\n",
       "      <td>NaN</td>\n",
       "      <td>NaN</td>\n",
       "      <td>NaN</td>\n",
       "    </tr>\n",
       "    <tr>\n",
       "      <th>81356</th>\n",
       "      <td>20200729134409126553</td>\n",
       "      <td>NaN</td>\n",
       "      <td>NaN</td>\n",
       "      <td>NaN</td>\n",
       "      <td>NaN</td>\n",
       "      <td>NaN</td>\n",
       "      <td>NaN</td>\n",
       "      <td>NaN</td>\n",
       "    </tr>\n",
       "    <tr>\n",
       "      <th>81357</th>\n",
       "      <td>20200803075905757887</td>\n",
       "      <td>NaN</td>\n",
       "      <td>NaN</td>\n",
       "      <td>NaN</td>\n",
       "      <td>NaN</td>\n",
       "      <td>NaN</td>\n",
       "      <td>NaN</td>\n",
       "      <td>NaN</td>\n",
       "    </tr>\n",
       "    <tr>\n",
       "      <th>81358</th>\n",
       "      <td>20200805170229147688</td>\n",
       "      <td>NaN</td>\n",
       "      <td>NaN</td>\n",
       "      <td>NaN</td>\n",
       "      <td>NaN</td>\n",
       "      <td>NaN</td>\n",
       "      <td>NaN</td>\n",
       "      <td>NaN</td>\n",
       "    </tr>\n",
       "    <tr>\n",
       "      <th>81359</th>\n",
       "      <td>20200805223526494551</td>\n",
       "      <td>NaN</td>\n",
       "      <td>NaN</td>\n",
       "      <td>NaN</td>\n",
       "      <td>NaN</td>\n",
       "      <td>NaN</td>\n",
       "      <td>NaN</td>\n",
       "      <td>NaN</td>\n",
       "    </tr>\n",
       "  </tbody>\n",
       "</table>\n",
       "<p>81360 rows × 8 columns</p>\n",
       "</div>"
      ],
      "text/plain": [
       "                       고객번호   성별 결혼유무 거주지역    연령 결제등록카드    유입경로 자녀여부\n",
       "0           201812310749735    여   기혼   인천  37.0   국민은행   인스타그램  Yes\n",
       "1           201812310749770    여   기혼   제주  33.0   국민은행    검색광고  Yes\n",
       "2           201812310749771    여   기혼   부산  32.0   하나은행  네이버블로그  Yes\n",
       "3           201812310749774    여   미혼   경남  34.0   기업은행    지인추천   No\n",
       "4           201812310749780    여   기혼   서울  32.0   신한은행    직접검색  Yes\n",
       "...                     ...  ...  ...  ...   ...    ...     ...  ...\n",
       "81355  20200724113017315991  NaN  NaN  NaN   NaN    NaN     NaN  NaN\n",
       "81356  20200729134409126553  NaN  NaN  NaN   NaN    NaN     NaN  NaN\n",
       "81357  20200803075905757887  NaN  NaN  NaN   NaN    NaN     NaN  NaN\n",
       "81358  20200805170229147688  NaN  NaN  NaN   NaN    NaN     NaN  NaN\n",
       "81359  20200805223526494551  NaN  NaN  NaN   NaN    NaN     NaN  NaN\n",
       "\n",
       "[81360 rows x 8 columns]"
      ]
     },
     "execution_count": 10,
     "metadata": {},
     "output_type": "execute_result"
    }
   ],
   "source": [
    "df_m = pd.read_csv('./Member_data.csv')\n",
    "df_m"
   ]
  },
  {
   "cell_type": "code",
   "execution_count": 13,
   "id": "bf420e26",
   "metadata": {
    "scrolled": true
   },
   "outputs": [
    {
     "name": "stdout",
     "output_type": "stream",
     "text": [
      "<class 'pandas.core.frame.DataFrame'>\n",
      "RangeIndex: 97747 entries, 0 to 97746\n",
      "Data columns (total 3 columns):\n",
      " #   Column  Non-Null Count  Dtype   \n",
      "---  ------  --------------  -----   \n",
      " 0   고객번호    97747 non-null  object  \n",
      " 1   구매횟수    97747 non-null  int64   \n",
      " 2   구매횟수구분  97747 non-null  category\n",
      "dtypes: category(1), int64(1), object(1)\n",
      "memory usage: 1.6+ MB\n"
     ]
    }
   ],
   "source": [
    "new_df.info()"
   ]
  },
  {
   "cell_type": "code",
   "execution_count": 14,
   "id": "ee1b45f3",
   "metadata": {
    "scrolled": true
   },
   "outputs": [
    {
     "name": "stdout",
     "output_type": "stream",
     "text": [
      "<class 'pandas.core.frame.DataFrame'>\n",
      "RangeIndex: 81360 entries, 0 to 81359\n",
      "Data columns (total 8 columns):\n",
      " #   Column  Non-Null Count  Dtype  \n",
      "---  ------  --------------  -----  \n",
      " 0   고객번호    81360 non-null  object \n",
      " 1   성별      81094 non-null  object \n",
      " 2   결혼유무    81094 non-null  object \n",
      " 3   거주지역    81094 non-null  object \n",
      " 4   연령      81094 non-null  float64\n",
      " 5   결제등록카드  81094 non-null  object \n",
      " 6   유입경로    81094 non-null  object \n",
      " 7   자녀여부    81094 non-null  object \n",
      "dtypes: float64(1), object(7)\n",
      "memory usage: 5.0+ MB\n"
     ]
    }
   ],
   "source": [
    "df_m.info()"
   ]
  },
  {
   "cell_type": "code",
   "execution_count": 3,
   "id": "cb06921a",
   "metadata": {},
   "outputs": [
    {
     "name": "stderr",
     "output_type": "stream",
     "text": [
      "/tmp/ipykernel_28367/874311597.py:2: DtypeWarning: Columns (0) have mixed types. Specify dtype option on import or set low_memory=False.\n",
      "  df_m = pd.read_csv('./Member_data.csv')\n",
      "/tmp/ipykernel_28367/874311597.py:3: DtypeWarning: Columns (0,5) have mixed types. Specify dtype option on import or set low_memory=False.\n",
      "  df_s = pd.read_csv('./New_Sales_data.csv')\n"
     ]
    }
   ],
   "source": [
    "import pandas as pd\n",
    "df_m = pd.read_csv('./Member_data.csv')\n",
    "df_s = pd.read_csv('./New_Sales_data.csv')"
   ]
  },
  {
   "cell_type": "code",
   "execution_count": 4,
   "id": "e4eff96b",
   "metadata": {},
   "outputs": [
    {
     "name": "stdout",
     "output_type": "stream",
     "text": [
      "<class 'pandas.core.frame.DataFrame'>\n",
      "RangeIndex: 81360 entries, 0 to 81359\n",
      "Data columns (total 8 columns):\n",
      " #   Column  Non-Null Count  Dtype  \n",
      "---  ------  --------------  -----  \n",
      " 0   고객번호    81360 non-null  object \n",
      " 1   성별      81094 non-null  object \n",
      " 2   결혼유무    81094 non-null  object \n",
      " 3   거주지역    81094 non-null  object \n",
      " 4   연령      81094 non-null  float64\n",
      " 5   결제등록카드  81094 non-null  object \n",
      " 6   유입경로    81094 non-null  object \n",
      " 7   자녀여부    81094 non-null  object \n",
      "dtypes: float64(1), object(7)\n",
      "memory usage: 5.0+ MB\n"
     ]
    }
   ],
   "source": [
    "df_m.info()"
   ]
  },
  {
   "cell_type": "code",
   "execution_count": 5,
   "id": "a8aaecb3",
   "metadata": {},
   "outputs": [
    {
     "name": "stdout",
     "output_type": "stream",
     "text": [
      "<class 'pandas.core.frame.DataFrame'>\n",
      "RangeIndex: 199999 entries, 0 to 199998\n",
      "Data columns (total 13 columns):\n",
      " #   Column  Non-Null Count   Dtype  \n",
      "---  ------  --------------   -----  \n",
      " 0   주문번호    199999 non-null  object \n",
      " 1   배송완료일   199999 non-null  object \n",
      " 2   배송시작일   199999 non-null  object \n",
      " 3   구매일     199999 non-null  object \n",
      " 4   구매시월령   199999 non-null  float64\n",
      " 5   고객번호    199999 non-null  object \n",
      " 6   구매금액    199999 non-null  int64  \n",
      " 7   결제금액    199999 non-null  int64  \n",
      " 8   물품대분류   199999 non-null  object \n",
      " 9   상품명     199999 non-null  object \n",
      " 10  포인트     199999 non-null  int64  \n",
      " 11  배송준비시간  199999 non-null  object \n",
      " 12  배송시간    199999 non-null  object \n",
      "dtypes: float64(1), int64(3), object(9)\n",
      "memory usage: 19.8+ MB\n"
     ]
    }
   ],
   "source": [
    "df_s.info()"
   ]
  },
  {
   "cell_type": "code",
   "execution_count": 7,
   "id": "c5a1be1c",
   "metadata": {},
   "outputs": [
    {
     "data": {
      "text/plain": [
       "201903010819119    43\n",
       "201902220808524    41\n",
       "201901090756255    41\n",
       "201901020751222    39\n",
       "201903010819037    39\n",
       "                   ..\n",
       "201908260970157     1\n",
       "201902260814594     1\n",
       "201904140870382     1\n",
       "201908260969992     1\n",
       "201909160983550     1\n",
       "Name: 고객번호, Length: 97747, dtype: int64"
      ]
     },
     "execution_count": 7,
     "metadata": {},
     "output_type": "execute_result"
    }
   ],
   "source": [
    "df_s['고객번호'].value_counts()"
   ]
  },
  {
   "cell_type": "code",
   "execution_count": 8,
   "id": "40fec3bf",
   "metadata": {},
   "outputs": [
    {
     "data": {
      "text/plain": [
       "201812310749735         1\n",
       "201908050955039         1\n",
       "201908050955058         1\n",
       "201908050955052         1\n",
       "201908050955047         1\n",
       "                       ..\n",
       "201903190843712         1\n",
       "201903190843708         1\n",
       "201903190843707         1\n",
       "201903190843706         1\n",
       "20200805223526494551    1\n",
       "Name: 고객번호, Length: 81360, dtype: int64"
      ]
     },
     "execution_count": 8,
     "metadata": {},
     "output_type": "execute_result"
    }
   ],
   "source": [
    "df_m['고객번호'].value_counts()"
   ]
  },
  {
   "cell_type": "code",
   "execution_count": 5,
   "id": "f57e6ae1",
   "metadata": {},
   "outputs": [],
   "source": [
    "x =7.6"
   ]
  },
  {
   "cell_type": "code",
   "execution_count": 8,
   "id": "50df1000",
   "metadata": {},
   "outputs": [],
   "source": [
    "x = int(x)"
   ]
  },
  {
   "cell_type": "code",
   "execution_count": 9,
   "id": "988ede47",
   "metadata": {},
   "outputs": [
    {
     "data": {
      "text/plain": [
       "7"
      ]
     },
     "execution_count": 9,
     "metadata": {},
     "output_type": "execute_result"
    }
   ],
   "source": [
    "x"
   ]
  },
  {
   "cell_type": "code",
   "execution_count": null,
   "id": "05d67f2e",
   "metadata": {},
   "outputs": [],
   "source": []
  }
 ],
 "metadata": {
  "kernelspec": {
   "display_name": "Python 3 (ipykernel)",
   "language": "python",
   "name": "python3"
  },
  "language_info": {
   "codemirror_mode": {
    "name": "ipython",
    "version": 3
   },
   "file_extension": ".py",
   "mimetype": "text/x-python",
   "name": "python",
   "nbconvert_exporter": "python",
   "pygments_lexer": "ipython3",
   "version": "3.9.13"
  }
 },
 "nbformat": 4,
 "nbformat_minor": 5
}
