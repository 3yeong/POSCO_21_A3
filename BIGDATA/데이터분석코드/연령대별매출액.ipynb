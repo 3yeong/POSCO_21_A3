{
 "cells": [
  {
   "cell_type": "code",
   "execution_count": 1,
   "id": "64b4c2fa",
   "metadata": {},
   "outputs": [],
   "source": [
    "import pandas as pd"
   ]
  },
  {
   "cell_type": "code",
   "execution_count": 63,
   "id": "5d61c6c9",
   "metadata": {},
   "outputs": [
    {
     "name": "stderr",
     "output_type": "stream",
     "text": [
      "/tmp/ipykernel_5110/354546881.py:1: DtypeWarning: Columns (0,5) have mixed types. Specify dtype option on import or set low_memory=False.\n",
      "  df = pd.read_csv('./Sales_data_RMF.csv')\n"
     ]
    }
   ],
   "source": [
    "df = pd.read_csv('./Sales_data_RMF.csv')"
   ]
  },
  {
   "cell_type": "code",
   "execution_count": 64,
   "id": "c5eda562",
   "metadata": {},
   "outputs": [
    {
     "data": {
      "text/html": [
       "<div>\n",
       "<style scoped>\n",
       "    .dataframe tbody tr th:only-of-type {\n",
       "        vertical-align: middle;\n",
       "    }\n",
       "\n",
       "    .dataframe tbody tr th {\n",
       "        vertical-align: top;\n",
       "    }\n",
       "\n",
       "    .dataframe thead th {\n",
       "        text-align: right;\n",
       "    }\n",
       "</style>\n",
       "<table border=\"1\" class=\"dataframe\">\n",
       "  <thead>\n",
       "    <tr style=\"text-align: right;\">\n",
       "      <th></th>\n",
       "      <th>주문번호</th>\n",
       "      <th>배송완료일</th>\n",
       "      <th>배송시작일</th>\n",
       "      <th>구매일</th>\n",
       "      <th>구매시월령</th>\n",
       "      <th>고객번호</th>\n",
       "      <th>구매금액</th>\n",
       "      <th>결제금액</th>\n",
       "      <th>물품대분류</th>\n",
       "      <th>상품명</th>\n",
       "      <th>포인트</th>\n",
       "      <th>배송준비시간</th>\n",
       "      <th>배송시간</th>\n",
       "      <th>물품중분류</th>\n",
       "      <th>물품소분류</th>\n",
       "    </tr>\n",
       "  </thead>\n",
       "  <tbody>\n",
       "    <tr>\n",
       "      <th>0</th>\n",
       "      <td>901011864201303</td>\n",
       "      <td>2021-01-05</td>\n",
       "      <td>2021-01-01</td>\n",
       "      <td>2020-12-31</td>\n",
       "      <td>35</td>\n",
       "      <td>201901010750089</td>\n",
       "      <td>74560</td>\n",
       "      <td>43825</td>\n",
       "      <td>팬티</td>\n",
       "      <td>하기스 매직핏팬티 5단계 남아 124매(팬티형)</td>\n",
       "      <td>30735</td>\n",
       "      <td>1 days</td>\n",
       "      <td>4 days</td>\n",
       "      <td>기저귀</td>\n",
       "      <td>팬티형</td>\n",
       "    </tr>\n",
       "    <tr>\n",
       "      <th>1</th>\n",
       "      <td>901011864430366</td>\n",
       "      <td>2021-01-03</td>\n",
       "      <td>2021-01-01</td>\n",
       "      <td>2020-12-31</td>\n",
       "      <td>9</td>\n",
       "      <td>201901010750143</td>\n",
       "      <td>74560</td>\n",
       "      <td>43825</td>\n",
       "      <td>팬티</td>\n",
       "      <td>하기스 매직핏팬티 3단계 남아 184매(팬티형)</td>\n",
       "      <td>30735</td>\n",
       "      <td>1 days</td>\n",
       "      <td>2 days</td>\n",
       "      <td>기저귀</td>\n",
       "      <td>팬티형</td>\n",
       "    </tr>\n",
       "    <tr>\n",
       "      <th>2</th>\n",
       "      <td>81231186197954</td>\n",
       "      <td>2021-01-05</td>\n",
       "      <td>2021-01-01</td>\n",
       "      <td>2020-12-31</td>\n",
       "      <td>22</td>\n",
       "      <td>201812310749820</td>\n",
       "      <td>53920</td>\n",
       "      <td>36769</td>\n",
       "      <td>팬티</td>\n",
       "      <td>하기스 네이처메이드 팬티 5단계 여아 80매(팬티형)</td>\n",
       "      <td>17151</td>\n",
       "      <td>1 days</td>\n",
       "      <td>4 days</td>\n",
       "      <td>기저귀</td>\n",
       "      <td>팬티형</td>\n",
       "    </tr>\n",
       "    <tr>\n",
       "      <th>3</th>\n",
       "      <td>812311863500220</td>\n",
       "      <td>2021-01-03</td>\n",
       "      <td>2021-01-01</td>\n",
       "      <td>2020-12-31</td>\n",
       "      <td>8</td>\n",
       "      <td>201812310750007</td>\n",
       "      <td>52160</td>\n",
       "      <td>32408</td>\n",
       "      <td>팬티</td>\n",
       "      <td>하기스 보송보송팬티 4단계 공용 124매(팬티형)</td>\n",
       "      <td>19752</td>\n",
       "      <td>1 days</td>\n",
       "      <td>2 days</td>\n",
       "      <td>기저귀</td>\n",
       "      <td>팬티형</td>\n",
       "    </tr>\n",
       "    <tr>\n",
       "      <th>4</th>\n",
       "      <td>812311863220192</td>\n",
       "      <td>2021-01-03</td>\n",
       "      <td>2021-01-01</td>\n",
       "      <td>2020-12-31</td>\n",
       "      <td>23</td>\n",
       "      <td>201812310749977</td>\n",
       "      <td>47360</td>\n",
       "      <td>30066</td>\n",
       "      <td>팬티</td>\n",
       "      <td>하기스 에어솔솔 팬티 5단계 남아용 80매(팬티형)</td>\n",
       "      <td>17294</td>\n",
       "      <td>1 days</td>\n",
       "      <td>2 days</td>\n",
       "      <td>기저귀</td>\n",
       "      <td>팬티형</td>\n",
       "    </tr>\n",
       "  </tbody>\n",
       "</table>\n",
       "</div>"
      ],
      "text/plain": [
       "              주문번호       배송완료일       배송시작일         구매일  구매시월령  \\\n",
       "0  901011864201303  2021-01-05  2021-01-01  2020-12-31     35   \n",
       "1  901011864430366  2021-01-03  2021-01-01  2020-12-31      9   \n",
       "2   81231186197954  2021-01-05  2021-01-01  2020-12-31     22   \n",
       "3  812311863500220  2021-01-03  2021-01-01  2020-12-31      8   \n",
       "4  812311863220192  2021-01-03  2021-01-01  2020-12-31     23   \n",
       "\n",
       "              고객번호   구매금액   결제금액 물품대분류                            상품명    포인트  \\\n",
       "0  201901010750089  74560  43825    팬티     하기스 매직핏팬티 5단계 남아 124매(팬티형)  30735   \n",
       "1  201901010750143  74560  43825    팬티     하기스 매직핏팬티 3단계 남아 184매(팬티형)  30735   \n",
       "2  201812310749820  53920  36769    팬티  하기스 네이처메이드 팬티 5단계 여아 80매(팬티형)  17151   \n",
       "3  201812310750007  52160  32408    팬티    하기스 보송보송팬티 4단계 공용 124매(팬티형)  19752   \n",
       "4  201812310749977  47360  30066    팬티   하기스 에어솔솔 팬티 5단계 남아용 80매(팬티형)  17294   \n",
       "\n",
       "   배송준비시간    배송시간 물품중분류 물품소분류  \n",
       "0  1 days  4 days   기저귀   팬티형  \n",
       "1  1 days  2 days   기저귀   팬티형  \n",
       "2  1 days  4 days   기저귀   팬티형  \n",
       "3  1 days  2 days   기저귀   팬티형  \n",
       "4  1 days  2 days   기저귀   팬티형  "
      ]
     },
     "execution_count": 64,
     "metadata": {},
     "output_type": "execute_result"
    }
   ],
   "source": [
    "df.head()"
   ]
  },
  {
   "cell_type": "code",
   "execution_count": 65,
   "id": "8c804188",
   "metadata": {},
   "outputs": [
    {
     "name": "stderr",
     "output_type": "stream",
     "text": [
      "/tmp/ipykernel_5110/2542198540.py:1: DtypeWarning: Columns (0) have mixed types. Specify dtype option on import or set low_memory=False.\n",
      "  df_m = pd.read_csv('./new_member_data.csv')\n"
     ]
    }
   ],
   "source": [
    "df_m = pd.read_csv('./new_member_data.csv')"
   ]
  },
  {
   "cell_type": "code",
   "execution_count": 66,
   "id": "d940219c",
   "metadata": {},
   "outputs": [
    {
     "data": {
      "text/html": [
       "<div>\n",
       "<style scoped>\n",
       "    .dataframe tbody tr th:only-of-type {\n",
       "        vertical-align: middle;\n",
       "    }\n",
       "\n",
       "    .dataframe tbody tr th {\n",
       "        vertical-align: top;\n",
       "    }\n",
       "\n",
       "    .dataframe thead th {\n",
       "        text-align: right;\n",
       "    }\n",
       "</style>\n",
       "<table border=\"1\" class=\"dataframe\">\n",
       "  <thead>\n",
       "    <tr style=\"text-align: right;\">\n",
       "      <th></th>\n",
       "      <th>고객번호</th>\n",
       "      <th>성별</th>\n",
       "      <th>결혼유무</th>\n",
       "      <th>거주지역</th>\n",
       "      <th>연령</th>\n",
       "      <th>결제등록카드</th>\n",
       "      <th>유입경로</th>\n",
       "      <th>자녀여부</th>\n",
       "      <th>구매일로부터기간</th>\n",
       "      <th>고객분류</th>\n",
       "    </tr>\n",
       "  </thead>\n",
       "  <tbody>\n",
       "    <tr>\n",
       "      <th>0</th>\n",
       "      <td>201812310749735</td>\n",
       "      <td>여</td>\n",
       "      <td>기혼</td>\n",
       "      <td>인천</td>\n",
       "      <td>37.00</td>\n",
       "      <td>국민은행</td>\n",
       "      <td>인스타그램</td>\n",
       "      <td>Yes</td>\n",
       "      <td>460</td>\n",
       "      <td>이탈고객</td>\n",
       "    </tr>\n",
       "    <tr>\n",
       "      <th>1</th>\n",
       "      <td>201812310749770</td>\n",
       "      <td>여</td>\n",
       "      <td>기혼</td>\n",
       "      <td>제주</td>\n",
       "      <td>33.00</td>\n",
       "      <td>국민은행</td>\n",
       "      <td>검색광고</td>\n",
       "      <td>Yes</td>\n",
       "      <td>527</td>\n",
       "      <td>이탈고객</td>\n",
       "    </tr>\n",
       "    <tr>\n",
       "      <th>2</th>\n",
       "      <td>201812310749771</td>\n",
       "      <td>여</td>\n",
       "      <td>기혼</td>\n",
       "      <td>부산</td>\n",
       "      <td>32.00</td>\n",
       "      <td>하나은행</td>\n",
       "      <td>네이버블로그</td>\n",
       "      <td>Yes</td>\n",
       "      <td>453</td>\n",
       "      <td>이탈고객</td>\n",
       "    </tr>\n",
       "    <tr>\n",
       "      <th>3</th>\n",
       "      <td>201812310749774</td>\n",
       "      <td>여</td>\n",
       "      <td>미혼</td>\n",
       "      <td>경남</td>\n",
       "      <td>34.00</td>\n",
       "      <td>기업은행</td>\n",
       "      <td>지인추천</td>\n",
       "      <td>No</td>\n",
       "      <td>376</td>\n",
       "      <td>이탈고객</td>\n",
       "    </tr>\n",
       "    <tr>\n",
       "      <th>4</th>\n",
       "      <td>201812310749780</td>\n",
       "      <td>여</td>\n",
       "      <td>기혼</td>\n",
       "      <td>서울</td>\n",
       "      <td>32.00</td>\n",
       "      <td>신한은행</td>\n",
       "      <td>직접검색</td>\n",
       "      <td>Yes</td>\n",
       "      <td>556</td>\n",
       "      <td>이탈고객</td>\n",
       "    </tr>\n",
       "  </tbody>\n",
       "</table>\n",
       "</div>"
      ],
      "text/plain": [
       "              고객번호 성별 결혼유무 거주지역    연령 결제등록카드    유입경로 자녀여부  구매일로부터기간  고객분류\n",
       "0  201812310749735  여   기혼   인천 37.00   국민은행   인스타그램  Yes       460  이탈고객\n",
       "1  201812310749770  여   기혼   제주 33.00   국민은행    검색광고  Yes       527  이탈고객\n",
       "2  201812310749771  여   기혼   부산 32.00   하나은행  네이버블로그  Yes       453  이탈고객\n",
       "3  201812310749774  여   미혼   경남 34.00   기업은행    지인추천   No       376  이탈고객\n",
       "4  201812310749780  여   기혼   서울 32.00   신한은행    직접검색  Yes       556  이탈고객"
      ]
     },
     "execution_count": 66,
     "metadata": {},
     "output_type": "execute_result"
    }
   ],
   "source": [
    "df_m.head()"
   ]
  },
  {
   "cell_type": "code",
   "execution_count": 67,
   "id": "7a012fe2",
   "metadata": {},
   "outputs": [],
   "source": [
    "pd.options.display.float_format = '{:.0f}'.format"
   ]
  },
  {
   "cell_type": "code",
   "execution_count": 68,
   "id": "ccc06c59",
   "metadata": {},
   "outputs": [],
   "source": [
    "df['고객번호'] = df['고객번호'].astype('float')\n",
    "df_m['고객번호'] = df_m['고객번호'].astype('float')"
   ]
  },
  {
   "cell_type": "code",
   "execution_count": 69,
   "id": "e9fa1eb2",
   "metadata": {},
   "outputs": [],
   "source": [
    "merged_df = pd.merge(df, df_m, on='고객번호', how='left')"
   ]
  },
  {
   "cell_type": "code",
   "execution_count": 72,
   "id": "c2962c37",
   "metadata": {},
   "outputs": [],
   "source": [
    "merged_df = merged_df[['연령', '물품소분류']]"
   ]
  },
  {
   "cell_type": "code",
   "execution_count": 73,
   "id": "a93b775e",
   "metadata": {},
   "outputs": [],
   "source": [
    "merged_df = merged_df.dropna()"
   ]
  },
  {
   "cell_type": "code",
   "execution_count": 75,
   "id": "2abdc29d",
   "metadata": {},
   "outputs": [
    {
     "data": {
      "text/html": [
       "<div>\n",
       "<style scoped>\n",
       "    .dataframe tbody tr th:only-of-type {\n",
       "        vertical-align: middle;\n",
       "    }\n",
       "\n",
       "    .dataframe tbody tr th {\n",
       "        vertical-align: top;\n",
       "    }\n",
       "\n",
       "    .dataframe thead th {\n",
       "        text-align: right;\n",
       "    }\n",
       "</style>\n",
       "<table border=\"1\" class=\"dataframe\">\n",
       "  <thead>\n",
       "    <tr style=\"text-align: right;\">\n",
       "      <th></th>\n",
       "      <th>연령</th>\n",
       "      <th>물품소분류</th>\n",
       "    </tr>\n",
       "  </thead>\n",
       "  <tbody>\n",
       "    <tr>\n",
       "      <th>0</th>\n",
       "      <td>30</td>\n",
       "      <td>팬티형</td>\n",
       "    </tr>\n",
       "    <tr>\n",
       "      <th>1</th>\n",
       "      <td>28</td>\n",
       "      <td>팬티형</td>\n",
       "    </tr>\n",
       "    <tr>\n",
       "      <th>2</th>\n",
       "      <td>31</td>\n",
       "      <td>팬티형</td>\n",
       "    </tr>\n",
       "    <tr>\n",
       "      <th>3</th>\n",
       "      <td>35</td>\n",
       "      <td>팬티형</td>\n",
       "    </tr>\n",
       "    <tr>\n",
       "      <th>4</th>\n",
       "      <td>32</td>\n",
       "      <td>팬티형</td>\n",
       "    </tr>\n",
       "  </tbody>\n",
       "</table>\n",
       "</div>"
      ],
      "text/plain": [
       "   연령 물품소분류\n",
       "0  30   팬티형\n",
       "1  28   팬티형\n",
       "2  31   팬티형\n",
       "3  35   팬티형\n",
       "4  32   팬티형"
      ]
     },
     "execution_count": 75,
     "metadata": {},
     "output_type": "execute_result"
    }
   ],
   "source": [
    "merged_df.head()"
   ]
  },
  {
   "cell_type": "code",
   "execution_count": 76,
   "id": "f9c10536",
   "metadata": {},
   "outputs": [],
   "source": [
    "def categorize_age(age):\n",
    "    if age <= 22:\n",
    "        return '20대 초반'\n",
    "    elif age <= 26:\n",
    "        return '20대 중반'\n",
    "    elif age <= 29:\n",
    "        return '20대 후반'\n",
    "    elif age <= 32 :\n",
    "        return '30대 초반'\n",
    "    elif age <= 36 :\n",
    "        return '30대 중반'\n",
    "    elif age <= 39 :\n",
    "        return '30대 후반'\n",
    "    elif age <= 42 :\n",
    "        return '40대 초반'\n",
    "    elif age <= 46 :\n",
    "        return '40대 중반'\n",
    "    else : return '40대 후반 이상'"
   ]
  },
  {
   "cell_type": "code",
   "execution_count": 77,
   "id": "a125cd8b",
   "metadata": {},
   "outputs": [],
   "source": [
    "merged_df['연령대'] = merged_df['연령'].apply(lambda age: categorize_age(age))"
   ]
  },
  {
   "cell_type": "code",
   "execution_count": 79,
   "id": "c7ecbb3c",
   "metadata": {},
   "outputs": [
    {
     "data": {
      "text/plain": [
       "일반형        25113\n",
       "팬티형        18052\n",
       "수유용품       13367\n",
       "화장지/물티슈    10374\n",
       "생리대         5433\n",
       "주방용품        4009\n",
       "욕실용품        2829\n",
       "스킨케어        2740\n",
       "위생용품        2697\n",
       "세탁용품        1359\n",
       "장난감          610\n",
       "기타           542\n",
       "음식           461\n",
       "의류           237\n",
       "유아동침구        117\n",
       "청소용품          77\n",
       "건강기능식품        44\n",
       "생활용품           9\n",
       "Name: 물품소분류, dtype: int64"
      ]
     },
     "execution_count": 79,
     "metadata": {},
     "output_type": "execute_result"
    }
   ],
   "source": [
    "merged_df[merged_df['연령대'] == '30대 중반']['물품소분류'].value_counts()"
   ]
  },
  {
   "cell_type": "code",
   "execution_count": null,
   "id": "f454dd9f",
   "metadata": {},
   "outputs": [],
   "source": [
    "merged_df[merged_df['연령대'] == '30대 중반']['물품소분류'].value_counts()"
   ]
  },
  {
   "cell_type": "code",
   "execution_count": 46,
   "id": "cfa9adbd",
   "metadata": {},
   "outputs": [
    {
     "data": {
      "text/plain": [
       "30대 중반    88070\n",
       "30대 초반    65530\n",
       "20대 후반    22255\n",
       "30대 후반    18281\n",
       "20대 중반     3079\n",
       "40대 초반     2251\n",
       "40대 중반       64\n",
       "20대 초반       53\n",
       "Name: 연령대, dtype: int64"
      ]
     },
     "execution_count": 46,
     "metadata": {},
     "output_type": "execute_result"
    }
   ],
   "source": [
    "merged_df['연령대'].value_counts()"
   ]
  },
  {
   "cell_type": "code",
   "execution_count": 48,
   "id": "cfa9a1fb",
   "metadata": {},
   "outputs": [
    {
     "data": {
      "text/html": [
       "<div>\n",
       "<style scoped>\n",
       "    .dataframe tbody tr th:only-of-type {\n",
       "        vertical-align: middle;\n",
       "    }\n",
       "\n",
       "    .dataframe tbody tr th {\n",
       "        vertical-align: top;\n",
       "    }\n",
       "\n",
       "    .dataframe thead th {\n",
       "        text-align: right;\n",
       "    }\n",
       "</style>\n",
       "<table border=\"1\" class=\"dataframe\">\n",
       "  <thead>\n",
       "    <tr style=\"text-align: right;\">\n",
       "      <th></th>\n",
       "      <th>구매금액</th>\n",
       "    </tr>\n",
       "    <tr>\n",
       "      <th>연령대</th>\n",
       "      <th></th>\n",
       "    </tr>\n",
       "  </thead>\n",
       "  <tbody>\n",
       "    <tr>\n",
       "      <th>30대 중반</th>\n",
       "      <td>2726534193</td>\n",
       "    </tr>\n",
       "    <tr>\n",
       "      <th>30대 초반</th>\n",
       "      <td>2021256659</td>\n",
       "    </tr>\n",
       "    <tr>\n",
       "      <th>20대 후반</th>\n",
       "      <td>685941740</td>\n",
       "    </tr>\n",
       "    <tr>\n",
       "      <th>30대 후반</th>\n",
       "      <td>569106815</td>\n",
       "    </tr>\n",
       "    <tr>\n",
       "      <th>20대 중반</th>\n",
       "      <td>93258635</td>\n",
       "    </tr>\n",
       "    <tr>\n",
       "      <th>40대 초반</th>\n",
       "      <td>71731650</td>\n",
       "    </tr>\n",
       "    <tr>\n",
       "      <th>40대 중반</th>\n",
       "      <td>1574640</td>\n",
       "    </tr>\n",
       "    <tr>\n",
       "      <th>20대 초반</th>\n",
       "      <td>1402020</td>\n",
       "    </tr>\n",
       "  </tbody>\n",
       "</table>\n",
       "</div>"
      ],
      "text/plain": [
       "              구매금액\n",
       "연령대               \n",
       "30대 중반  2726534193\n",
       "30대 초반  2021256659\n",
       "20대 후반   685941740\n",
       "30대 후반   569106815\n",
       "20대 중반    93258635\n",
       "40대 초반    71731650\n",
       "40대 중반     1574640\n",
       "20대 초반     1402020"
      ]
     },
     "execution_count": 48,
     "metadata": {},
     "output_type": "execute_result"
    }
   ],
   "source": [
    "new_df = pd.DataFrame(merged_df.groupby('연령대')['구매금액'].sum().sort_values(ascending=False))\n",
    "new_df"
   ]
  },
  {
   "cell_type": "code",
   "execution_count": 61,
   "id": "4f09a6fc",
   "metadata": {},
   "outputs": [],
   "source": [
    "percentages = round((new_df['구매금액'] / new_df['구매금액'].sum()) * 100, 1)"
   ]
  },
  {
   "cell_type": "code",
   "execution_count": 62,
   "id": "319f76ca",
   "metadata": {},
   "outputs": [
    {
     "data": {
      "text/plain": [
       "연령대\n",
       "30대 중반   44.20\n",
       "30대 초반   32.80\n",
       "20대 후반   11.10\n",
       "30대 후반    9.20\n",
       "20대 중반    1.50\n",
       "40대 초반    1.20\n",
       "40대 중반    0.00\n",
       "20대 초반    0.00\n",
       "Name: 구매금액, dtype: float64"
      ]
     },
     "execution_count": 62,
     "metadata": {},
     "output_type": "execute_result"
    }
   ],
   "source": [
    "percentages"
   ]
  },
  {
   "cell_type": "code",
   "execution_count": 45,
   "id": "53db3ad4",
   "metadata": {},
   "outputs": [
    {
     "data": {
      "text/plain": [
       "연령대\n",
       "30대 중반    1949541670\n",
       "30대 초반    1440972236\n",
       "20대 후반     488918598\n",
       "30대 후반     403542272\n",
       "20대 중반      66804730\n",
       "40대 초반      50971706\n",
       "40대 중반       1151584\n",
       "20대 초반       1031010\n",
       "Name: 결제금액, dtype: int64"
      ]
     },
     "execution_count": 45,
     "metadata": {},
     "output_type": "execute_result"
    }
   ],
   "source": [
    "merged_df.groupby('연령대')['결제금액'].sum().sort_values(ascending=False)"
   ]
  },
  {
   "cell_type": "code",
   "execution_count": null,
   "id": "83e3ed71",
   "metadata": {},
   "outputs": [],
   "source": []
  }
 ],
 "metadata": {
  "kernelspec": {
   "display_name": "Python 3 (ipykernel)",
   "language": "python",
   "name": "python3"
  },
  "language_info": {
   "codemirror_mode": {
    "name": "ipython",
    "version": 3
   },
   "file_extension": ".py",
   "mimetype": "text/x-python",
   "name": "python",
   "nbconvert_exporter": "python",
   "pygments_lexer": "ipython3",
   "version": "3.9.16"
  }
 },
 "nbformat": 4,
 "nbformat_minor": 5
}
